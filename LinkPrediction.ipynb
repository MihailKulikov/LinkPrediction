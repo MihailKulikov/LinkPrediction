{
  "nbformat": 4,
  "nbformat_minor": 0,
  "metadata": {
    "colab": {
      "name": "LinkPrediction.ipynb",
      "provenance": [],
      "collapsed_sections": [
        "i0vEZF6v4lbi"
      ],
      "toc_visible": true
    },
    "kernelspec": {
      "name": "python3",
      "display_name": "Python 3"
    },
    "language_info": {
      "name": "python"
    }
  },
  "cells": [
    {
      "cell_type": "code",
      "metadata": {
        "colab": {
          "base_uri": "https://localhost:8080/"
        },
        "id": "N_xPt3FwiyAf",
        "outputId": "26c4e841-1feb-4307-a808-93fff709c0d3"
      },
      "source": [
        "from google.colab import drive\n",
        "drive.mount('/content/drive/')"
      ],
      "execution_count": null,
      "outputs": [
        {
          "output_type": "stream",
          "text": [
            "Mounted at /content/drive/\n"
          ],
          "name": "stdout"
        }
      ]
    },
    {
      "cell_type": "code",
      "metadata": {
        "id": "hEe5rH39nZSd"
      },
      "source": [
        "gDrivePath = \"/content/drive/My Drive/Link prediction/\""
      ],
      "execution_count": null,
      "outputs": []
    },
    {
      "cell_type": "code",
      "metadata": {
        "colab": {
          "base_uri": "https://localhost:8080/"
        },
        "id": "IBaAAgyvTVCm",
        "outputId": "4f1c1eae-9225-42cc-e2c9-a664546bc9fc"
      },
      "source": [
        "!pip install -q pymorphy2\n",
        "!pip install -q bigartm10\n",
        "!pip install -q catboost"
      ],
      "execution_count": null,
      "outputs": [
        {
          "output_type": "stream",
          "text": [
            "\u001b[K     |████████████████████████████████| 61kB 2.5MB/s \n",
            "\u001b[K     |████████████████████████████████| 8.2MB 5.1MB/s \n",
            "\u001b[K     |████████████████████████████████| 2.0MB 2.8MB/s \n",
            "\u001b[K     |████████████████████████████████| 67.3MB 58kB/s \n",
            "\u001b[?25h"
          ],
          "name": "stdout"
        }
      ]
    },
    {
      "cell_type": "code",
      "metadata": {
        "id": "wrFP7rgXpxRO",
        "colab": {
          "base_uri": "https://localhost:8080/"
        },
        "outputId": "10dd84a8-079e-4bde-c78a-dce6547c182b"
      },
      "source": [
        "import pandas as pd\n",
        "import pickle\n",
        "import json, os, re\n",
        "from tqdm import tqdm as tq\n",
        "import pymorphy2\n",
        "import artm\n",
        "import numpy as np\n",
        "from scipy import spatial\n",
        "import networkx as nx\n",
        "from itertools import combinations\n",
        "import catboost as cgb\n",
        "from sklearn.model_selection import train_test_split\n",
        "import scipy\n",
        "import matplotlib.pyplot   as plt\n",
        "from scipy import sparse\n",
        "from sklearn.metrics import roc_auc_score, precision_score, balanced_accuracy_score\n",
        "from hyperopt import fmin, tpe, hp, STATUS_OK, Trials, space_eval\n",
        "from catboost.utils import get_roc_curve, select_threshold\n",
        "from sklearn.metrics import balanced_accuracy_score, precision_recall_curve, auc, recall_score, f1_score, precision_score, classification_report"
      ],
      "execution_count": null,
      "outputs": [
        {
          "output_type": "stream",
          "text": [
            "/usr/local/lib/python3.7/dist-packages/past/types/oldstr.py:5: DeprecationWarning: Using or importing the ABCs from 'collections' instead of from 'collections.abc' is deprecated since Python 3.3,and in 3.9 it will stop working\n",
            "  from collections import Iterable\n",
            "/usr/local/lib/python3.7/dist-packages/past/builtins/misc.py:4: DeprecationWarning: Using or importing the ABCs from 'collections' instead of from 'collections.abc' is deprecated since Python 3.3,and in 3.9 it will stop working\n",
            "  from collections import Mapping\n"
          ],
          "name": "stderr"
        }
      ]
    },
    {
      "cell_type": "markdown",
      "metadata": {
        "id": "gKw8QRsYISvu"
      },
      "source": [
        "## Чистим текст"
      ]
    },
    {
      "cell_type": "code",
      "metadata": {
        "id": "kWwa-HUgsuZb"
      },
      "source": [
        "def flatten(l):\n",
        "    return [item for sublist in l for item in sublist]\n",
        "\n",
        "def cleanNames(names_list):\n",
        "    expr = r'[А-ЯЁ]\\.[А-ЯЁ]\\. [А-ЯЁ][а-яё]*|[А-ЯЁ][а-яё]* [А-ЯЁ]\\.[А-ЯЁ]\\.'\n",
        "    filt_list = []\n",
        "    for name in names_list:\n",
        "        filt_list.append([x for x in re.findall(expr, name) if x != []])\n",
        "    filt_list2 = []\n",
        "    for l in flatten(filt_list):\n",
        "        x1, x2 = l.split(' ')\n",
        "        if x1.count('.') == 2:\n",
        "            filt_list2.append(l)\n",
        "        else:\n",
        "            filt_list2.append(' '.join([x2,x1]))\n",
        "    return filt_list2"
      ],
      "execution_count": null,
      "outputs": []
    },
    {
      "cell_type": "code",
      "metadata": {
        "id": "GF6qheustGVN"
      },
      "source": [
        "json_files = os.listdir(gDrivePath + \"geofix/\")\n",
        "json_files.sort()\n",
        "df = pd.DataFrame(columns=['authors_raw', 'year', 'geo', 'geo_full', 'text'])\n",
        "\n",
        "for index, js in enumerate(json_files):\n",
        "    with open(os.path.join(gDrivePath + \"geofix/\", js)) as json_file:\n",
        "        json_text = json.load(json_file)\n",
        "        authors = json_text['authors_cleaned']\n",
        "        year = json_text['year']\n",
        "        geo = json_text['geo_tags']\n",
        "        geo_full = json_text['geo_tags_full']\n",
        "        text = json_text['text']\n",
        "        df.loc[index] = [authors, year, geo, geo_full, text]"
      ],
      "execution_count": null,
      "outputs": []
    },
    {
      "cell_type": "code",
      "metadata": {
        "id": "pdrZ-N9wf6S7"
      },
      "source": [
        "df['authors'] = df['authors_raw'].apply(cleanNames)\n",
        "df['year'] = df['year'].astype(int)\n",
        "df.head()"
      ],
      "execution_count": null,
      "outputs": []
    },
    {
      "cell_type": "code",
      "metadata": {
        "id": "iXoH18Y9VlZR"
      },
      "source": [
        "df = pd.read_csv(gDrivePath + 'initial_data_2015.csv')\n",
        "df.updated_geo = df.updated_geo.apply(eval)\n",
        "df.geo_full = df.geo_full.apply(eval)\n",
        "#df.to_csv(gDrivePath + 'initial_data.csv')\n",
        "#df.to_csv(gDrivePath + 'initial_data_2015.csv')"
      ],
      "execution_count": null,
      "outputs": []
    },
    {
      "cell_type": "code",
      "metadata": {
        "id": "gEAz49UGnJBY"
      },
      "source": [
        "F = pd.read_csv(gDrivePath + 'F_2015.csv')"
      ],
      "execution_count": null,
      "outputs": []
    },
    {
      "cell_type": "code",
      "metadata": {
        "colab": {
          "base_uri": "https://localhost:8080/"
        },
        "id": "V12OR28pg4Zg",
        "outputId": "3ba1ea2d-e719-459c-89e2-3287c26dc929"
      },
      "source": [
        "df[df.year==2016].shape"
      ],
      "execution_count": null,
      "outputs": [
        {
          "output_type": "execute_result",
          "data": {
            "text/plain": [
              "(302, 8)"
            ]
          },
          "metadata": {
            "tags": []
          },
          "execution_count": 12
        }
      ]
    },
    {
      "cell_type": "code",
      "metadata": {
        "id": "mf0ydcs_LX_z"
      },
      "source": [
        "from collections import Counter\n",
        "\n",
        "def set_geos(geos):\n",
        "  all_geos = geos.items()\n",
        "  authors = list(geos.keys())\n",
        "  geo_to_count = Counter([geo[1] for geo in all_geos if isinstance(geo[1], str)])\n",
        "  if len(geo_to_count) == 0:\n",
        "    for author in authors:\n",
        "      geos[author] = ''\n",
        "    return geos\n",
        "  frequent_geo = max(geo_to_count.items(), key = lambda kvp: kvp[1])[0]\n",
        "  for author in authors:\n",
        "    if not isinstance(geos[author], str):\n",
        "      geos[author] = frequent_geo\n",
        "  return geos\n",
        "\n",
        "df['updated_geo'] = df.geo_full.apply(set_geos)"
      ],
      "execution_count": null,
      "outputs": []
    },
    {
      "cell_type": "code",
      "metadata": {
        "id": "Rl9qpJoACigk"
      },
      "source": [
        "def remove_useless(row):\n",
        "  text = row['text']\n",
        "  index = row['index']\n",
        "  kw_index_en = text.find(\"Key words\")\n",
        "  kw_index_ru = text.find(\"Ключевые слова\")\n",
        "  email_index = text.find(\"E-mail\")\n",
        "  reference_index_en = text.find(\"Reference\")\n",
        "  reference_index_ru = text.find(\"Спиоск литературы\")\n",
        "  begin = 0\n",
        "  if kw_index_en > kw_index_ru:\n",
        "    begin = kw_index_en + len(\"key words\")\n",
        "  elif kw_index_en < kw_index_ru:\n",
        "    begin = kw_index_ru + len(\"Ключевые слова\")\n",
        "  end = len(text)\n",
        "  if reference_index_en < reference_index_ru:\n",
        "    end = reference_index_en\n",
        "  else:\n",
        "    end = reference_index_ru\n",
        "  center = text[begin:end]\n",
        "  words = [morph.parse(x.lower().replace(u'ё', u'е'))[0].normal_form\n",
        "           for x in re.findall(r'[ЁА-Яа-яё]+', center)\n",
        "           if len(x) > 2 and x != \"при\" and x != \"для\" and x != \"быть\" and x != \"что\" and x != \"рис\" and x != 'это' and x != 'где']\n",
        "  return str(index) + \" |words \" + \" \".join(words)"
      ],
      "execution_count": null,
      "outputs": []
    },
    {
      "cell_type": "code",
      "metadata": {
        "id": "b1xCRfTGF98b",
        "colab": {
          "base_uri": "https://localhost:8080/"
        },
        "outputId": "e57b35f2-71f9-44c2-c9d7-4c07644361a7"
      },
      "source": [
        "morph = pymorphy2.MorphAnalyzer()\n",
        "vw = df.reset_index().apply(remove_useless, axis=1)\n",
        "vw.head(3)"
      ],
      "execution_count": null,
      "outputs": [
        {
          "output_type": "stream",
          "text": [
            "/usr/local/lib/python3.7/dist-packages/pymorphy2/units/base.py:70: DeprecationWarning: inspect.getargspec() is deprecated since Python 3.0, use inspect.signature() or inspect.getfullargspec()\n",
            "  args, varargs, kw, default = inspect.getargspec(cls.__init__)\n"
          ],
          "name": "stderr"
        },
        {
          "output_type": "execute_result",
          "data": {
            "text/plain": [
              "0    0 |words надёжность трубопровод прочность расч...\n",
              "1    1 |words высоковязкий тяжёлый нефть сложнопост...\n",
              "2    2 |words ления тогурский свита как основной по...\n",
              "dtype: object"
            ]
          },
          "metadata": {
            "tags": []
          },
          "execution_count": 13
        }
      ]
    },
    {
      "cell_type": "code",
      "metadata": {
        "id": "Q68J3c1dPUqM"
      },
      "source": [
        "# with open(gDrivePath + 'vw_rp_2015.txt', 'w') as fout:\n",
        "#     for line in vw:\n",
        "#         fout.write(line + '\\n')"
      ],
      "execution_count": null,
      "outputs": []
    },
    {
      "cell_type": "markdown",
      "metadata": {
        "id": "tDV_rRtPWTi8"
      },
      "source": [
        "# Строим тематические модели"
      ]
    },
    {
      "cell_type": "code",
      "metadata": {
        "id": "Td8CwU5ZWOWV"
      },
      "source": [
        "# batch_vectorizer = artm.BatchVectorizer(data_path=gDrivePath + 'vw_rp_2015.txt', data_format='vowpal_wabbit', collection_name='vw', target_folder=gDrivePath + 'batches_rp_2015')"
      ],
      "execution_count": null,
      "outputs": []
    },
    {
      "cell_type": "code",
      "metadata": {
        "id": "-Tz6t2vjWOQd"
      },
      "source": [
        "batch_vectorizer = artm.BatchVectorizer(data_path=gDrivePath + 'batches_rp_2015', data_format = 'batches')"
      ],
      "execution_count": null,
      "outputs": []
    },
    {
      "cell_type": "code",
      "metadata": {
        "id": "yfQ2IqmMXYFS",
        "colab": {
          "base_uri": "https://localhost:8080/"
        },
        "outputId": "88e27cb8-fa9d-4678-d1a0-2a0965c2b241"
      },
      "source": [
        "dictionary = artm.Dictionary()\n",
        "dictionary.gather(data_path=batch_vectorizer.data_path)\n",
        "dictionary"
      ],
      "execution_count": null,
      "outputs": [
        {
          "output_type": "execute_result",
          "data": {
            "text/plain": [
              "artm.Dictionary(name=e9486bf5-c748-4157-839e-4bf3e9840727, num_entries=62841)"
            ]
          },
          "metadata": {
            "tags": []
          },
          "execution_count": 6
        }
      ]
    },
    {
      "cell_type": "code",
      "metadata": {
        "id": "olNoWOB6XYBC"
      },
      "source": [
        "def print_topic_top_words(model, metric):\n",
        "    for topic_name in model.topic_names:\n",
        "      print(topic_name + ': '),\n",
        "      try:\n",
        "          print(\", \".join(model.score_tracker[metric].last_tokens[topic_name]))\n",
        "      except:\n",
        "          print(\"Not enough unigrams in a topic\")\n",
        "          print()"
      ],
      "execution_count": null,
      "outputs": []
    },
    {
      "cell_type": "markdown",
      "metadata": {
        "id": "XFUicKXl4d4z"
      },
      "source": [
        "## PLSA"
      ]
    },
    {
      "cell_type": "code",
      "metadata": {
        "id": "QqyrkMBHXYL8"
      },
      "source": [
        "model_plsa = artm.ARTM(topic_names=['topic_{}'.format(i) for i in range(10)],\n",
        "                       scores=[artm.PerplexityScore(name='PerplexityScore',\n",
        "                                                    dictionary=dictionary)],\n",
        "                       cache_theta=True, reuse_theta=True, theta_columns_naming='title')"
      ],
      "execution_count": null,
      "outputs": []
    },
    {
      "cell_type": "code",
      "metadata": {
        "id": "tGiZEciBXYKr"
      },
      "source": [
        "model_plsa.scores.add(artm.SparsityPhiScore(name='SparsityPhiScoreP', class_id='words', eps=1e-5))\n",
        "model_plsa.scores.add(artm.SparsityThetaScore(name='SparsityThetaScoreP', eps=1e-5))\n",
        "model_plsa.scores.add(artm.TopTokensScore(name='TopTokensScoreP', num_tokens=10, class_id='words'))"
      ],
      "execution_count": null,
      "outputs": []
    },
    {
      "cell_type": "code",
      "metadata": {
        "id": "Nf_kJg79XYJh"
      },
      "source": [
        "model_plsa.initialize(dictionary=dictionary)"
      ],
      "execution_count": null,
      "outputs": []
    },
    {
      "cell_type": "code",
      "metadata": {
        "id": "ZsfOhXhzXYCX",
        "colab": {
          "base_uri": "https://localhost:8080/"
        },
        "outputId": "b29d45b5-c9ce-406b-fbfe-458447863024"
      },
      "source": [
        "%%time\n",
        "model_plsa.fit_offline(batch_vectorizer=batch_vectorizer, num_collection_passes=25)"
      ],
      "execution_count": null,
      "outputs": [
        {
          "output_type": "stream",
          "text": [
            "CPU times: user 1min 2s, sys: 1.12 s, total: 1min 3s\n",
            "Wall time: 50 s\n"
          ],
          "name": "stdout"
        }
      ]
    },
    {
      "cell_type": "code",
      "metadata": {
        "id": "-BIsWy5v0lGI",
        "colab": {
          "base_uri": "https://localhost:8080/"
        },
        "outputId": "1baac6a2-5bbd-4c3b-f551-786c22819d9a"
      },
      "source": [
        "print_topic_top_words(model_plsa, 'TopTokensScoreP')"
      ],
      "execution_count": null,
      "outputs": [
        {
          "output_type": "stream",
          "text": [
            "topic_0: \n",
            "пласт, коллектор, порода, скважина, данные, исследование, керн, пористость, результат, проницаемость\n",
            "topic_1: \n",
            "отложение, порода, значение, месторождение, углеводород, нефтяной, работа, зона, нефть, быть\n",
            "topic_2: \n",
            "нефтяной, система, работа, исследование, использование, хозяйство, который, установка, применение, технология\n",
            "topic_3: \n",
            "давление, нефть, газ, нефтяной, коэффициент, вода, значение, зависимость, расчёт, жидкость\n",
            "topic_4: \n",
            "нефть, скважина, месторождение, разработка, пласт, нефтяной, добыча, запас, технология, вода\n",
            "topic_5: \n",
            "нефть, раствор, состав, температура, вода, образец, нефтяной, содержание, порода, месторождение\n",
            "topic_6: \n",
            "скважина, трещина, грп, давление, пласт, бурение, ствол, колонна, работа, жидкость\n",
            "topic_7: \n",
            "модель, система, данные, решение, работа, оценка, расчёт, параметр, проект, объект\n",
            "topic_8: \n",
            "нефтяной, нефть, оао, компания, быть, месторождение, работа, год, газ, который\n",
            "topic_9: \n",
            "отложение, зона, порода, часть, разрез, западный, работа, свита, который, нефть\n"
          ],
          "name": "stdout"
        }
      ]
    },
    {
      "cell_type": "code",
      "metadata": {
        "id": "rBckL4TQ6V6o",
        "colab": {
          "base_uri": "https://localhost:8080/"
        },
        "outputId": "59643e71-0d38-4256-e9a5-474d4f7f1b8d"
      },
      "source": [
        "print(model_plsa.score_tracker['SparsityPhiScoreP'].last_value)\n",
        "print(model_plsa.score_tracker['SparsityThetaScoreP'].last_value)\n",
        "theta0 = model_plsa.get_theta()\n",
        "print('Num zeros col in theta: ', sum([(theta0[i] == 0).all() for i in theta0.columns]))"
      ],
      "execution_count": null,
      "outputs": [
        {
          "output_type": "stream",
          "text": [
            "0.903433620929718\n",
            "0.5809407830238342\n",
            "Num zeros col in theta:  0\n"
          ],
          "name": "stdout"
        }
      ]
    },
    {
      "cell_type": "code",
      "metadata": {
        "id": "FSo5vK34kxfa"
      },
      "source": [
        "# F = model_plsa.get_theta()\n",
        "# F.to_csv(gDrivePath+f'/data/plsa_theta.csv')"
      ],
      "execution_count": null,
      "outputs": []
    },
    {
      "cell_type": "markdown",
      "metadata": {
        "id": "tq0_BMei4pKl"
      },
      "source": [
        "## LDA"
      ]
    },
    {
      "cell_type": "code",
      "metadata": {
        "id": "sB0xN6tSjUAo"
      },
      "source": [
        "model_lda = artm.ARTM(topic_names=['topic_{}'.format(i) for i in range(14)],\n",
        "                       scores=[artm.PerplexityScore(name='PerplexityScore',\n",
        "                                                    dictionary=dictionary)],\n",
        "                       regularizers=[artm.SmoothSparseThetaRegularizer(name='SparseTheta', tau=-0.7),\n",
        "                                     artm.SmoothSparsePhiRegularizer(name='SparsePhi', tau=-0.1)],\n",
        "                       cache_theta=True, reuse_theta=True, theta_columns_naming='title')"
      ],
      "execution_count": null,
      "outputs": []
    },
    {
      "cell_type": "code",
      "metadata": {
        "id": "nMnspgCCmZfY"
      },
      "source": [
        "model_lda.scores.add(artm.SparsityPhiScore(name='SparsityPhiScoreL', class_id='words', eps=1e-5))\n",
        "model_lda.scores.add(artm.SparsityThetaScore(name='SparsityThetaScoreL', eps=1e-5))\n",
        "model_lda.scores.add(artm.TopTokensScore(name='TopTokensScoreL', num_tokens=15, class_id='words'))\n",
        "model_lda.initialize(dictionary=dictionary)"
      ],
      "execution_count": null,
      "outputs": []
    },
    {
      "cell_type": "code",
      "metadata": {
        "id": "kN3D7eHzmd9r",
        "colab": {
          "base_uri": "https://localhost:8080/"
        },
        "outputId": "b2bc5903-e0e5-4b4e-a810-f59f4ece52dc"
      },
      "source": [
        "%%time\n",
        "model_lda.fit_offline(batch_vectorizer=batch_vectorizer, num_collection_passes=25)"
      ],
      "execution_count": null,
      "outputs": [
        {
          "output_type": "stream",
          "text": [
            "CPU times: user 1min 13s, sys: 1.27 s, total: 1min 14s\n",
            "Wall time: 59.6 s\n"
          ],
          "name": "stdout"
        }
      ]
    },
    {
      "cell_type": "code",
      "metadata": {
        "id": "ha7Lx_eRuevm",
        "colab": {
          "base_uri": "https://localhost:8080/"
        },
        "outputId": "1f03cce4-97dc-4198-c078-ef1aeb8a9efe"
      },
      "source": [
        "print(model_lda.score_tracker['SparsityPhiScoreL'].last_value)\n",
        "print(model_lda.score_tracker['SparsityThetaScoreL'].last_value)\n",
        "theta0 = model_lda.get_theta()\n",
        "print('Num zeros col in theta: ', sum([(theta0[i] == 0).all() for i in theta0.columns]))"
      ],
      "execution_count": null,
      "outputs": [
        {
          "output_type": "stream",
          "text": [
            "0.9135684967041016\n",
            "0.6130807399749756\n",
            "Num zeros col in theta:  0\n"
          ],
          "name": "stdout"
        }
      ]
    },
    {
      "cell_type": "code",
      "metadata": {
        "id": "PTAVeiZZuV4R"
      },
      "source": [
        "print_topic_top_words(model_lda, 'TopTokensScoreL')"
      ],
      "execution_count": null,
      "outputs": []
    },
    {
      "cell_type": "code",
      "metadata": {
        "id": "sE8wY8sgmtnY"
      },
      "source": [
        "# F = model_lda.get_theta()\n",
        "# F.to_csv(gDrivePath+'/data/lda_theta.csv')"
      ],
      "execution_count": null,
      "outputs": []
    },
    {
      "cell_type": "markdown",
      "metadata": {
        "id": "i0vEZF6v4lbi"
      },
      "source": [
        "## ARTM"
      ]
    },
    {
      "cell_type": "code",
      "metadata": {
        "id": "C6g32ZmP6Zih"
      },
      "source": [
        "model_artm = artm.ARTM(topic_names=['topic_{}'.format(i) for i in range(9)],\n",
        "                       scores=[artm.PerplexityScore(name='PerplexityScore',\n",
        "                                                    dictionary=dictionary)],\n",
        "                       regularizers=[artm.SmoothSparseThetaRegularizer(name='SparseTheta', tau=-0.5),\n",
        "                                     artm.SmoothSparsePhiRegularizer(name='SparsePhi', tau=-0.001)],\n",
        "                       cache_theta=True, reuse_theta=True, theta_columns_naming='title')"
      ],
      "execution_count": null,
      "outputs": []
    },
    {
      "cell_type": "code",
      "metadata": {
        "id": "fHRKzgZ30Lxt"
      },
      "source": [
        "model_artm.regularizers.add(artm.DecorrelatorPhiRegularizer(name='DecorrelatorPhi', tau=-50e3))"
      ],
      "execution_count": null,
      "outputs": []
    },
    {
      "cell_type": "code",
      "metadata": {
        "id": "0VXFagbb0Lun"
      },
      "source": [
        "model_artm.scores.add(artm.SparsityPhiScore(name='SparsityPhiScoreA', class_id='words', eps=1e-5))\n",
        "model_artm.scores.add(artm.SparsityThetaScore(name='SparsityThetaScoreA', eps=1e-5))\n",
        "model_artm.scores.add(artm.TopTokensScore(name='TopTokensScoreA', num_tokens=15, class_id='words'))"
      ],
      "execution_count": null,
      "outputs": []
    },
    {
      "cell_type": "code",
      "metadata": {
        "id": "r4O4gFaM0LsL"
      },
      "source": [
        "model_artm.initialize(dictionary=dictionary)"
      ],
      "execution_count": null,
      "outputs": []
    },
    {
      "cell_type": "code",
      "metadata": {
        "id": "GGFwT1pZ0RPm",
        "colab": {
          "base_uri": "https://localhost:8080/",
          "height": 422
        },
        "outputId": "94c7dc2b-c29f-49b5-87c6-1cbcaf2393bb"
      },
      "source": [
        "%%time\n",
        "model_artm.fit_offline(batch_vectorizer=batch_vectorizer, num_collection_passes=25)"
      ],
      "execution_count": null,
      "outputs": [
        {
          "output_type": "error",
          "ename": "KeyboardInterrupt",
          "evalue": "ignored",
          "traceback": [
            "\u001b[0;31m---------------------------------------------------------------------------\u001b[0m",
            "\u001b[0;31mKeyboardInterrupt\u001b[0m                         Traceback (most recent call last)",
            "\u001b[0;32m<ipython-input-33-89265d633e29>\u001b[0m in \u001b[0;36m<module>\u001b[0;34m()\u001b[0m\n\u001b[0;32m----> 1\u001b[0;31m \u001b[0mget_ipython\u001b[0m\u001b[0;34m(\u001b[0m\u001b[0;34m)\u001b[0m\u001b[0;34m.\u001b[0m\u001b[0mrun_cell_magic\u001b[0m\u001b[0;34m(\u001b[0m\u001b[0;34m'time'\u001b[0m\u001b[0;34m,\u001b[0m \u001b[0;34m''\u001b[0m\u001b[0;34m,\u001b[0m \u001b[0;34m'model_artm.fit_offline(batch_vectorizer=batch_vectorizer, num_collection_passes=25)'\u001b[0m\u001b[0;34m)\u001b[0m\u001b[0;34m\u001b[0m\u001b[0;34m\u001b[0m\u001b[0m\n\u001b[0m",
            "\u001b[0;32m/usr/local/lib/python3.7/dist-packages/IPython/core/interactiveshell.py\u001b[0m in \u001b[0;36mrun_cell_magic\u001b[0;34m(self, magic_name, line, cell)\u001b[0m\n\u001b[1;32m   2115\u001b[0m             \u001b[0mmagic_arg_s\u001b[0m \u001b[0;34m=\u001b[0m \u001b[0mself\u001b[0m\u001b[0;34m.\u001b[0m\u001b[0mvar_expand\u001b[0m\u001b[0;34m(\u001b[0m\u001b[0mline\u001b[0m\u001b[0;34m,\u001b[0m \u001b[0mstack_depth\u001b[0m\u001b[0;34m)\u001b[0m\u001b[0;34m\u001b[0m\u001b[0;34m\u001b[0m\u001b[0m\n\u001b[1;32m   2116\u001b[0m             \u001b[0;32mwith\u001b[0m \u001b[0mself\u001b[0m\u001b[0;34m.\u001b[0m\u001b[0mbuiltin_trap\u001b[0m\u001b[0;34m:\u001b[0m\u001b[0;34m\u001b[0m\u001b[0;34m\u001b[0m\u001b[0m\n\u001b[0;32m-> 2117\u001b[0;31m                 \u001b[0mresult\u001b[0m \u001b[0;34m=\u001b[0m \u001b[0mfn\u001b[0m\u001b[0;34m(\u001b[0m\u001b[0mmagic_arg_s\u001b[0m\u001b[0;34m,\u001b[0m \u001b[0mcell\u001b[0m\u001b[0;34m)\u001b[0m\u001b[0;34m\u001b[0m\u001b[0;34m\u001b[0m\u001b[0m\n\u001b[0m\u001b[1;32m   2118\u001b[0m             \u001b[0;32mreturn\u001b[0m \u001b[0mresult\u001b[0m\u001b[0;34m\u001b[0m\u001b[0;34m\u001b[0m\u001b[0m\n\u001b[1;32m   2119\u001b[0m \u001b[0;34m\u001b[0m\u001b[0m\n",
            "\u001b[0;32m<decorator-gen-53>\u001b[0m in \u001b[0;36mtime\u001b[0;34m(self, line, cell, local_ns)\u001b[0m\n",
            "\u001b[0;32m/usr/local/lib/python3.7/dist-packages/IPython/core/magic.py\u001b[0m in \u001b[0;36m<lambda>\u001b[0;34m(f, *a, **k)\u001b[0m\n\u001b[1;32m    186\u001b[0m     \u001b[0;31m# but it's overkill for just that one bit of state.\u001b[0m\u001b[0;34m\u001b[0m\u001b[0;34m\u001b[0m\u001b[0;34m\u001b[0m\u001b[0m\n\u001b[1;32m    187\u001b[0m     \u001b[0;32mdef\u001b[0m \u001b[0mmagic_deco\u001b[0m\u001b[0;34m(\u001b[0m\u001b[0marg\u001b[0m\u001b[0;34m)\u001b[0m\u001b[0;34m:\u001b[0m\u001b[0;34m\u001b[0m\u001b[0;34m\u001b[0m\u001b[0m\n\u001b[0;32m--> 188\u001b[0;31m         \u001b[0mcall\u001b[0m \u001b[0;34m=\u001b[0m \u001b[0;32mlambda\u001b[0m \u001b[0mf\u001b[0m\u001b[0;34m,\u001b[0m \u001b[0;34m*\u001b[0m\u001b[0ma\u001b[0m\u001b[0;34m,\u001b[0m \u001b[0;34m**\u001b[0m\u001b[0mk\u001b[0m\u001b[0;34m:\u001b[0m \u001b[0mf\u001b[0m\u001b[0;34m(\u001b[0m\u001b[0;34m*\u001b[0m\u001b[0ma\u001b[0m\u001b[0;34m,\u001b[0m \u001b[0;34m**\u001b[0m\u001b[0mk\u001b[0m\u001b[0;34m)\u001b[0m\u001b[0;34m\u001b[0m\u001b[0;34m\u001b[0m\u001b[0m\n\u001b[0m\u001b[1;32m    189\u001b[0m \u001b[0;34m\u001b[0m\u001b[0m\n\u001b[1;32m    190\u001b[0m         \u001b[0;32mif\u001b[0m \u001b[0mcallable\u001b[0m\u001b[0;34m(\u001b[0m\u001b[0marg\u001b[0m\u001b[0;34m)\u001b[0m\u001b[0;34m:\u001b[0m\u001b[0;34m\u001b[0m\u001b[0;34m\u001b[0m\u001b[0m\n",
            "\u001b[0;32m/usr/local/lib/python3.7/dist-packages/IPython/core/magics/execution.py\u001b[0m in \u001b[0;36mtime\u001b[0;34m(self, line, cell, local_ns)\u001b[0m\n\u001b[1;32m   1187\u001b[0m         \u001b[0;32mif\u001b[0m \u001b[0mmode\u001b[0m\u001b[0;34m==\u001b[0m\u001b[0;34m'eval'\u001b[0m\u001b[0;34m:\u001b[0m\u001b[0;34m\u001b[0m\u001b[0;34m\u001b[0m\u001b[0m\n\u001b[1;32m   1188\u001b[0m             \u001b[0mst\u001b[0m \u001b[0;34m=\u001b[0m \u001b[0mclock2\u001b[0m\u001b[0;34m(\u001b[0m\u001b[0;34m)\u001b[0m\u001b[0;34m\u001b[0m\u001b[0;34m\u001b[0m\u001b[0m\n\u001b[0;32m-> 1189\u001b[0;31m             \u001b[0mout\u001b[0m \u001b[0;34m=\u001b[0m \u001b[0meval\u001b[0m\u001b[0;34m(\u001b[0m\u001b[0mcode\u001b[0m\u001b[0;34m,\u001b[0m \u001b[0mglob\u001b[0m\u001b[0;34m,\u001b[0m \u001b[0mlocal_ns\u001b[0m\u001b[0;34m)\u001b[0m\u001b[0;34m\u001b[0m\u001b[0;34m\u001b[0m\u001b[0m\n\u001b[0m\u001b[1;32m   1190\u001b[0m             \u001b[0mend\u001b[0m \u001b[0;34m=\u001b[0m \u001b[0mclock2\u001b[0m\u001b[0;34m(\u001b[0m\u001b[0;34m)\u001b[0m\u001b[0;34m\u001b[0m\u001b[0;34m\u001b[0m\u001b[0m\n\u001b[1;32m   1191\u001b[0m         \u001b[0;32melse\u001b[0m\u001b[0;34m:\u001b[0m\u001b[0;34m\u001b[0m\u001b[0;34m\u001b[0m\u001b[0m\n",
            "\u001b[0;32m<timed eval>\u001b[0m in \u001b[0;36m<module>\u001b[0;34m()\u001b[0m\n",
            "\u001b[0;32m/usr/local/lib/python3.7/dist-packages/artm/artm_model.py\u001b[0m in \u001b[0;36mfit_offline\u001b[0;34m(self, batch_vectorizer, num_collection_passes, reset_nwt)\u001b[0m\n\u001b[1;32m    579\u001b[0m                     self._pool.apply_async(func=self.master.fit_offline,\n\u001b[1;32m    580\u001b[0m                                            args=(batch_vectorizer.batches_ids,\n\u001b[0;32m--> 581\u001b[0;31m                                                  batch_vectorizer.weights, 1, None, reset_nwt)),\n\u001b[0m\u001b[1;32m    582\u001b[0m                     batch_vectorizer.num_batches)\n\u001b[1;32m    583\u001b[0m \u001b[0;34m\u001b[0m\u001b[0m\n",
            "\u001b[0;32m/usr/local/lib/python3.7/dist-packages/artm/artm_model.py\u001b[0m in \u001b[0;36mapply_async\u001b[0;34m(self, func, args)\u001b[0m\n\u001b[1;32m     98\u001b[0m \u001b[0;34m\u001b[0m\u001b[0m\n\u001b[1;32m     99\u001b[0m     \u001b[0;32mdef\u001b[0m \u001b[0mapply_async\u001b[0m\u001b[0;34m(\u001b[0m\u001b[0mself\u001b[0m\u001b[0;34m,\u001b[0m \u001b[0mfunc\u001b[0m\u001b[0;34m,\u001b[0m \u001b[0margs\u001b[0m\u001b[0;34m)\u001b[0m\u001b[0;34m:\u001b[0m\u001b[0;34m\u001b[0m\u001b[0;34m\u001b[0m\u001b[0m\n\u001b[0;32m--> 100\u001b[0;31m         \u001b[0;32mreturn\u001b[0m \u001b[0mself\u001b[0m\u001b[0;34m.\u001b[0m\u001b[0m_pool\u001b[0m\u001b[0;34m.\u001b[0m\u001b[0mapply_async\u001b[0m\u001b[0;34m(\u001b[0m\u001b[0mfunc\u001b[0m\u001b[0;34m,\u001b[0m \u001b[0margs\u001b[0m\u001b[0;34m)\u001b[0m \u001b[0;32mif\u001b[0m \u001b[0mself\u001b[0m\u001b[0;34m.\u001b[0m\u001b[0m_pool\u001b[0m \u001b[0;32melse\u001b[0m \u001b[0mfunc\u001b[0m\u001b[0;34m(\u001b[0m\u001b[0;34m*\u001b[0m\u001b[0margs\u001b[0m\u001b[0;34m)\u001b[0m\u001b[0;34m\u001b[0m\u001b[0;34m\u001b[0m\u001b[0m\n\u001b[0m\u001b[1;32m    101\u001b[0m \u001b[0;34m\u001b[0m\u001b[0m\n\u001b[1;32m    102\u001b[0m     \u001b[0;32mdef\u001b[0m \u001b[0m__deepcopy__\u001b[0m\u001b[0;34m(\u001b[0m\u001b[0mself\u001b[0m\u001b[0;34m,\u001b[0m \u001b[0mmemo\u001b[0m\u001b[0;34m)\u001b[0m\u001b[0;34m:\u001b[0m\u001b[0;34m\u001b[0m\u001b[0;34m\u001b[0m\u001b[0m\n",
            "\u001b[0;32m/usr/local/lib/python3.7/dist-packages/artm/master_component.py\u001b[0m in \u001b[0;36mfit_offline\u001b[0;34m(self, batch_filenames, batch_weights, num_collection_passes, batches_folder, reset_nwt)\u001b[0m\n\u001b[1;32m    864\u001b[0m             \u001b[0margs\u001b[0m\u001b[0;34m.\u001b[0m\u001b[0mbatch_folder\u001b[0m \u001b[0;34m=\u001b[0m \u001b[0mbatches_folder\u001b[0m\u001b[0;34m\u001b[0m\u001b[0;34m\u001b[0m\u001b[0m\n\u001b[1;32m    865\u001b[0m \u001b[0;34m\u001b[0m\u001b[0m\n\u001b[0;32m--> 866\u001b[0;31m         \u001b[0mself\u001b[0m\u001b[0;34m.\u001b[0m\u001b[0m_lib\u001b[0m\u001b[0;34m.\u001b[0m\u001b[0mArtmFitOfflineMasterModel\u001b[0m\u001b[0;34m(\u001b[0m\u001b[0mself\u001b[0m\u001b[0;34m.\u001b[0m\u001b[0mmaster_id\u001b[0m\u001b[0;34m,\u001b[0m \u001b[0margs\u001b[0m\u001b[0;34m)\u001b[0m\u001b[0;34m\u001b[0m\u001b[0;34m\u001b[0m\u001b[0m\n\u001b[0m\u001b[1;32m    867\u001b[0m \u001b[0;34m\u001b[0m\u001b[0m\n\u001b[1;32m    868\u001b[0m     def fit_online(self, batch_filenames=None, batch_weights=None, update_after=None,\n",
            "\u001b[0;32m/usr/local/lib/python3.7/dist-packages/artm/wrapper/api.py\u001b[0m in \u001b[0;36martm_api_call\u001b[0;34m(*args)\u001b[0m\n\u001b[1;32m    158\u001b[0m             \u001b[0;32mif\u001b[0m \u001b[0mspec\u001b[0m\u001b[0;34m.\u001b[0m\u001b[0mresult_type\u001b[0m \u001b[0;32mis\u001b[0m \u001b[0;32mnot\u001b[0m \u001b[0;32mNone\u001b[0m\u001b[0;34m:\u001b[0m\u001b[0;34m\u001b[0m\u001b[0;34m\u001b[0m\u001b[0m\n\u001b[1;32m    159\u001b[0m                 \u001b[0mfunc\u001b[0m\u001b[0;34m.\u001b[0m\u001b[0mrestype\u001b[0m \u001b[0;34m=\u001b[0m \u001b[0mspec\u001b[0m\u001b[0;34m.\u001b[0m\u001b[0mresult_type\u001b[0m\u001b[0;34m\u001b[0m\u001b[0;34m\u001b[0m\u001b[0m\n\u001b[0;32m--> 160\u001b[0;31m             \u001b[0mresult\u001b[0m \u001b[0;34m=\u001b[0m \u001b[0mfunc\u001b[0m\u001b[0;34m(\u001b[0m\u001b[0;34m*\u001b[0m\u001b[0mc_args\u001b[0m\u001b[0;34m)\u001b[0m\u001b[0;34m\u001b[0m\u001b[0;34m\u001b[0m\u001b[0m\n\u001b[0m\u001b[1;32m    161\u001b[0m             \u001b[0mself\u001b[0m\u001b[0;34m.\u001b[0m\u001b[0m_check_error\u001b[0m\u001b[0;34m(\u001b[0m\u001b[0mresult\u001b[0m\u001b[0;34m)\u001b[0m\u001b[0;34m\u001b[0m\u001b[0;34m\u001b[0m\u001b[0m\n\u001b[1;32m    162\u001b[0m \u001b[0;34m\u001b[0m\u001b[0m\n",
            "\u001b[0;31mKeyboardInterrupt\u001b[0m: "
          ]
        }
      ]
    },
    {
      "cell_type": "code",
      "metadata": {
        "id": "0UuckHpn0RhL"
      },
      "source": [
        "print(model_artm.score_tracker['SparsityPhiScoreA'].last_value)\n",
        "print(model_artm.score_tracker['SparsityThetaScoreA'].last_value)\n",
        "theta0 = model_artm.get_theta()\n",
        "print('Num zeros col in theta: ', sum([(theta0[i] == 0).all() for i in theta0.columns]))"
      ],
      "execution_count": null,
      "outputs": []
    },
    {
      "cell_type": "code",
      "metadata": {
        "id": "3YHangAA0RZ2"
      },
      "source": [
        "print_topic_top_words(model_artm, 'TopTokensScoreA')"
      ],
      "execution_count": null,
      "outputs": []
    },
    {
      "cell_type": "code",
      "metadata": {
        "id": "zp6dCmaQjmO_"
      },
      "source": [
        "F = model_artm.get_theta()\n",
        "# F.to_csv(gDrivePath+f'/data/artm_theta.csv')"
      ],
      "execution_count": null,
      "outputs": []
    },
    {
      "cell_type": "markdown",
      "metadata": {
        "id": "7JameXoMNVFc"
      },
      "source": [
        "## Иерархическая"
      ]
    },
    {
      "cell_type": "code",
      "metadata": {
        "id": "ShYFlPRH3ref"
      },
      "source": [
        "hier = artm.hARTM(scores=[artm.PerplexityScore(name='PerplexityScore', dictionary=dictionary)],\n",
        "                  cache_theta=True, reuse_theta=True, theta_columns_naming='title')"
      ],
      "execution_count": null,
      "outputs": []
    },
    {
      "cell_type": "code",
      "metadata": {
        "id": "hVQzTUJodGiG",
        "colab": {
          "base_uri": "https://localhost:8080/"
        },
        "outputId": "49366f3a-e314-4929-e7cf-6780fabefcc5"
      },
      "source": [
        "level0 = hier.add_level(num_topics=9)\n",
        "level0.initialize(dictionary)\n",
        "level0.regularizers.add(artm.DecorrelatorPhiRegularizer(name='DecorrelatorPhi0', tau=5e3))\n",
        "level0.regularizers.add(artm.SmoothSparseThetaRegularizer(name='SparseTheta', tau=-0.5))\n",
        "level0.regularizers.add(artm.SmoothSparsePhiRegularizer(name='SparsePhi', tau=-0.1))\n",
        "\n",
        "level0.scores.add(artm.SparsityPhiScore(name='SparsityPhiScore0', class_id='words', eps=1e-5))\n",
        "level0.scores.add(artm.SparsityThetaScore(name='SparsityThetaScore0', eps=1e-5))\n",
        "%time level0.fit_offline(batch_vectorizer=batch_vectorizer, num_collection_passes=10)"
      ],
      "execution_count": null,
      "outputs": [
        {
          "output_type": "stream",
          "text": [
            "CPU times: user 32.3 s, sys: 476 ms, total: 32.8 s\n",
            "Wall time: 23 s\n"
          ],
          "name": "stdout"
        }
      ]
    },
    {
      "cell_type": "code",
      "metadata": {
        "id": "NrO95jm9cwKV",
        "colab": {
          "base_uri": "https://localhost:8080/"
        },
        "outputId": "a2639e72-8f5a-4af9-a8b9-dec279ee68db"
      },
      "source": [
        "print('level0')\n",
        "print('SparsityPhi: ', level0.score_tracker['SparsityPhiScore0'].last_value)\n",
        "print('SparsityTheta: ', level0.score_tracker['SparsityThetaScore0'].last_value)\n",
        "theta0 = level0.get_theta()\n",
        "print('Num zeros col in theta: ', sum([(theta0[i] == 0).all() for i in theta0.columns]))"
      ],
      "execution_count": null,
      "outputs": [
        {
          "output_type": "stream",
          "text": [
            "level0\n",
            "SparsityPhi:  0.9107341170310974\n",
            "SparsityTheta:  0.49851495027542114\n",
            "Num zeros col in theta:  0\n"
          ],
          "name": "stdout"
        }
      ]
    },
    {
      "cell_type": "code",
      "metadata": {
        "id": "GVi3G5sBdlFQ"
      },
      "source": [
        "level1 = hier.add_level(num_topics=50, topic_names=['child_topic_' + str(i) for i in range(25)], parent_level_weight=1)\n",
        "level1.scores.add(artm.SparsityPhiScore(name='SparsityPhiScore1', class_id='words', eps=1e-5))\n",
        "level1.scores.add(artm.SparsityThetaScore(name='SparsityThetaScore1', eps=1e-5))\n",
        "level1.scores.add(artm.TopTokensScore(name='TopTokensScore1', num_tokens=15, class_id='words'))\n",
        "level1.regularizers.add(artm.HierarchySparsingThetaRegularizer(name=\"HierSp\", tau=2),overwrite=True)\n",
        "level1.regularizers.add(artm.SmoothSparsePhiRegularizer(name='SparsePhi', tau=-0.1),overwrite=True)"
      ],
      "execution_count": null,
      "outputs": []
    },
    {
      "cell_type": "code",
      "metadata": {
        "id": "gpJIGbm9gNaX",
        "colab": {
          "base_uri": "https://localhost:8080/"
        },
        "outputId": "0fb950ea-1569-4909-cf4d-bb124c293704"
      },
      "source": [
        "level1.initialize(dictionary)\n",
        "level1.regularizers.add(artm.SmoothSparseThetaRegularizer(name='SparseTheta', tau=-0.01),overwrite=True)\n",
        "level1.regularizers.add(artm.DecorrelatorPhiRegularizer(name='DecorrelatorPhi1', tau=15e4),overwrite=True)\n",
        "%time level1.fit_offline(batch_vectorizer=batch_vectorizer, num_collection_passes=10)"
      ],
      "execution_count": null,
      "outputs": [
        {
          "output_type": "stream",
          "text": [
            "CPU times: user 54.2 s, sys: 813 ms, total: 55 s\n",
            "Wall time: 35.8 s\n"
          ],
          "name": "stdout"
        }
      ]
    },
    {
      "cell_type": "code",
      "metadata": {
        "id": "CBxBWR5_ZIqy",
        "colab": {
          "base_uri": "https://localhost:8080/"
        },
        "outputId": "75f99f86-abe0-4d69-ae65-d21b2e074586"
      },
      "source": [
        "print('level1')\n",
        "print('SparsityPhi: ', level1.score_tracker['SparsityPhiScore1'].last_value)\n",
        "print('SparsityTheta: ', level1.score_tracker['SparsityThetaScore1'].last_value)\n",
        "theta1 = level1.get_theta()\n",
        "print('Num zeros col in theta: ',sum([(theta1[i] == 0).all() for i in theta1.columns]))"
      ],
      "execution_count": null,
      "outputs": [
        {
          "output_type": "stream",
          "text": [
            "level1\n",
            "SparsityPhi:  0.9150694608688354\n",
            "SparsityTheta:  0.6169210076332092\n",
            "Num zeros col in theta:  0\n"
          ],
          "name": "stdout"
        }
      ]
    },
    {
      "cell_type": "code",
      "metadata": {
        "id": "ZF1ctJyRdfNV",
        "colab": {
          "base_uri": "https://localhost:8080/"
        },
        "outputId": "e80cd8a9-f4dc-486b-a1a7-1bab71e93708"
      },
      "source": [
        "print_topic_top_words(level1, 'TopTokensScore1')"
      ],
      "execution_count": null,
      "outputs": [
        {
          "output_type": "stream",
          "text": [
            "child_topic_0: \n",
            "модель, нефть, значение, данные, результат, пласт, нефтяной, разработка, параметр, быть, получить, вытеснение, моделирование, зависимость, метод\n",
            "child_topic_1: \n",
            "образец, порода, керн, исследование, вода, зависимость, метод, проницаемость, коэффициент, поровый, скорость, значение, измерение, нефтяной, параметр\n",
            "child_topic_2: \n",
            "газ, энергия, сепаратор, поток, нефтяной, ротор, процесс, мощность, частота, сепарация, использование, нефтепровод, нефть, турбина, где\n",
            "child_topic_3: \n",
            "коррозия, трубопровод, коррозионный, защита, ингибитор, сеть, система, битум, среда, испытание, кислотный, время, год, обработка, фотография\n",
            "child_topic_4: \n",
            "год, нефть, разработка, оао, быть, страна, кислота, млн, новый, который, компания, сша, реагент, нефтегазовый, институт\n",
            "child_topic_5: \n",
            "содержание, отложение, территория, вещество, органический, толща, южный, генерация, условие, бассейн, оценка, район, впадина, нефтяной, зона\n",
            "child_topic_6: \n",
            "давление, скважина, трещина, пласт, разработка, месторождение, нефтяной, расчёт, пластовый, мпа, эксплуатация, который, нефть, результат, время\n",
            "child_topic_7: \n",
            "нефть, нефтяной, газ, месторождение, состав, технология, температура, добыча, хозяйство, пласт, кислотный, быть, после, исследование, применение\n",
            "child_topic_8: \n",
            "скважина, насос, колонна, бурение, жидкость, оборудование, труба, диаметр, давление, установка, рабочий, работа, система, технология, который\n",
            "child_topic_9: \n",
            "скважина, месторождение, пласт, разработка, нефть, запас, участок, технология, нефтяной, вода, добыча, объект, применение, скв, залежь\n",
            "child_topic_10: \n",
            "нефть, вода, нефтяной, давление, фаза, температура, процесс, вязкость, газ, система, скорость, эмульсия, объём, пластовый, смесь\n",
            "child_topic_11: \n",
            "нефть, который, процесс, новый, разработка, модель, решение, нефтяной, задача, данные, метод, анализ, работа, система, реализация\n",
            "child_topic_12: \n",
            "модель, параметр, скважина, расчёт, система, решение, бурение, нефтяной, точка, это, алгоритм, моделирование, который, результат, задача\n",
            "child_topic_13: \n",
            "нефтепродукт, вода, работа, год, пдк, оао, бурение, участок, новый, экологический, уровень, состояние, объект, грунт, безопасность\n",
            "child_topic_14: \n",
            "раствор, состав, цементный, тампонажный, прочность, свойство, частица, плотность, механический, камень, вода, добавка, буровой, примесь, условие\n",
            "child_topic_15: \n",
            "порода, свита, углеводород, баженовский, отложение, состав, глинистый, западный, органический, вещество, исследование, разрез, результат, часть, который\n",
            "child_topic_16: \n",
            "пласт, коллектор, месторождение, зона, скважина, нефть, запас, отложение, залежь, горизонт, нефтяной, порода, геолого, карбонатный, вероятность\n",
            "child_topic_17: \n",
            "скважина, грп, дебит, нефть, ствол, эксплуатация, работа, жидкость, добыча, давление, пласт, нефтяной, горизонтальный, технология, режим\n",
            "child_topic_18: \n",
            "газ, температура, метод, содержание, углеводород, горение, реакция, пластовый, состав, фракция, процесс, компонент, нефтяной, окисление, эксперимент\n",
            "child_topic_19: \n",
            "компания, оао, система, проект, объект, месторождение, работа, управление, технология, нефтяной, добыча, развитие, решение, ооо, технический\n",
            "child_topic_20: \n",
            "раствор, буровой, бурение, показатель, условие, почва, материал, отход, соль, вода, процесс, являться, основа, качество, водный\n",
            "child_topic_21: \n",
            "отложение, зона, коллектор, месторождение, залежь, разрез, пласт, карбонатный, часть, структура, нефть, порода, тип, пористость, разведочный\n",
            "child_topic_22: \n",
            "порода, работа, трещина, скважина, развитие, отложение, интервал, результат, сейсмический, данные, геология, западный, залежь, это, горизонт\n",
            "child_topic_23: \n",
            "трубопровод, образец, температура, поверхность, коэффициент, труба, скорость, который, сопротивление, грунт, значение, слой, время, при, для\n",
            "child_topic_24: \n",
            "пласт, метод, исследование, параметр, модель, данные, месторождение, коллектор, проницаемость, керн, гис, результат, это, скважина, анализ\n"
          ],
          "name": "stdout"
        }
      ]
    },
    {
      "cell_type": "markdown",
      "metadata": {
        "id": "lNlKf8vFL6aP"
      },
      "source": [
        "## Визуализатор"
      ]
    },
    {
      "cell_type": "code",
      "metadata": {
        "colab": {
          "base_uri": "https://localhost:8080/",
          "height": 253
        },
        "id": "g9-5pw2epBst",
        "outputId": "8adf6030-4380-464b-effa-d7e08532ebba"
      },
      "source": [
        "theta_T = level1.get_theta().T\n",
        "phi_T = level1.get_phi().T\n",
        "phi_T.columns = phi_T.columns.to_series().apply(lambda name: name[1])\n",
        "phi_T.head()"
      ],
      "execution_count": null,
      "outputs": [
        {
          "output_type": "execute_result",
          "data": {
            "text/html": [
              "<div>\n",
              "<style scoped>\n",
              "    .dataframe tbody tr th:only-of-type {\n",
              "        vertical-align: middle;\n",
              "    }\n",
              "\n",
              "    .dataframe tbody tr th {\n",
              "        vertical-align: top;\n",
              "    }\n",
              "\n",
              "    .dataframe thead th {\n",
              "        text-align: right;\n",
              "    }\n",
              "</style>\n",
              "<table border=\"1\" class=\"dataframe\">\n",
              "  <thead>\n",
              "    <tr style=\"text-align: right;\">\n",
              "      <th></th>\n",
              "      <th>нерезультативный</th>\n",
              "      <th>документироваться</th>\n",
              "      <th>мотивационный</th>\n",
              "      <th>действенность</th>\n",
              "      <th>перениматься</th>\n",
              "      <th>институционализация</th>\n",
              "      <th>риваля</th>\n",
              "      <th>союзнефтеотдача</th>\n",
              "      <th>щелкачев</th>\n",
              "      <th>универсиитат</th>\n",
              "      <th>шоболово</th>\n",
              "      <th>анссср</th>\n",
              "      <th>жигач</th>\n",
              "      <th>краковский</th>\n",
              "      <th>надя</th>\n",
              "      <th>фосфатокремнистый</th>\n",
              "      <th>гиммельфарбский</th>\n",
              "      <th>электродрель</th>\n",
              "      <th>шлифовать</th>\n",
              "      <th>колпачок</th>\n",
              "      <th>стеклянрация</th>\n",
              "      <th>прудить</th>\n",
              "      <th>безрис</th>\n",
              "      <th>упереться</th>\n",
              "      <th>дубна</th>\n",
              "      <th>мантсгео</th>\n",
              "      <th>катор</th>\n",
              "      <th>батскома</th>\n",
              "      <th>пго</th>\n",
              "      <th>уинский</th>\n",
              "      <th>ангасякнуть</th>\n",
              "      <th>василовский</th>\n",
              "      <th>кереметовый</th>\n",
              "      <th>недеспергировать</th>\n",
              "      <th>довытеснять</th>\n",
              "      <th>гированная</th>\n",
              "      <th>недиспер</th>\n",
              "      <th>ромм</th>\n",
              "      <th>полутоновый</th>\n",
              "      <th>брокеридж</th>\n",
              "      <th>...</th>\n",
              "      <th>новаторство</th>\n",
              "      <th>следовано</th>\n",
              "      <th>термобурение</th>\n",
              "      <th>чугорьяхинский</th>\n",
              "      <th>ааний</th>\n",
              "      <th>парус</th>\n",
              "      <th>типоразмерный</th>\n",
              "      <th>ипполитовский</th>\n",
              "      <th>исследопараметр</th>\n",
              "      <th>тимкий</th>\n",
              "      <th>шпицберген</th>\n",
              "      <th>апрельмать</th>\n",
              "      <th>сдуваться</th>\n",
              "      <th>голофаста</th>\n",
              "      <th>расщелина</th>\n",
              "      <th>пилообразность</th>\n",
              "      <th>малообеспеченный</th>\n",
              "      <th>тёртый</th>\n",
              "      <th>бравичев</th>\n",
              "      <th>агодарность</th>\n",
              "      <th>клячкина</th>\n",
              "      <th>ярославцев</th>\n",
              "      <th>предпоказатель</th>\n",
              "      <th>канапый</th>\n",
              "      <th>торошение</th>\n",
              "      <th>сэлида</th>\n",
              "      <th>барсуковдлить</th>\n",
              "      <th>оставот</th>\n",
              "      <th>преимущпптч</th>\n",
              "      <th>отобранлять</th>\n",
              "      <th>улучшаться</th>\n",
              "      <th>месторождефициент</th>\n",
              "      <th>керногост</th>\n",
              "      <th>внутхимически</th>\n",
              "      <th>ефимец</th>\n",
              "      <th>долговременный</th>\n",
              "      <th>посредством</th>\n",
              "      <th>мегафациальный</th>\n",
              "      <th>титаномагнетит</th>\n",
              "      <th>ильменит</th>\n",
              "    </tr>\n",
              "  </thead>\n",
              "  <tbody>\n",
              "    <tr>\n",
              "      <th>child_topic_0</th>\n",
              "      <td>0.0</td>\n",
              "      <td>0.0</td>\n",
              "      <td>0.0</td>\n",
              "      <td>0.0</td>\n",
              "      <td>0.0</td>\n",
              "      <td>0.0</td>\n",
              "      <td>0.0</td>\n",
              "      <td>0.000000</td>\n",
              "      <td>0.0</td>\n",
              "      <td>0.0</td>\n",
              "      <td>0.0</td>\n",
              "      <td>0.0</td>\n",
              "      <td>0.000000</td>\n",
              "      <td>0.0</td>\n",
              "      <td>0.0</td>\n",
              "      <td>0.0</td>\n",
              "      <td>0.0</td>\n",
              "      <td>0.0</td>\n",
              "      <td>0.0</td>\n",
              "      <td>0.000000</td>\n",
              "      <td>0.0</td>\n",
              "      <td>0.0</td>\n",
              "      <td>0.0</td>\n",
              "      <td>0.0</td>\n",
              "      <td>0.0</td>\n",
              "      <td>0.000006</td>\n",
              "      <td>0.000000</td>\n",
              "      <td>0.0</td>\n",
              "      <td>0.0</td>\n",
              "      <td>0.000000</td>\n",
              "      <td>0.0</td>\n",
              "      <td>0.000000</td>\n",
              "      <td>0.0</td>\n",
              "      <td>0.0</td>\n",
              "      <td>0.000006</td>\n",
              "      <td>0.0</td>\n",
              "      <td>0.0</td>\n",
              "      <td>0.0</td>\n",
              "      <td>0.0</td>\n",
              "      <td>0.0</td>\n",
              "      <td>...</td>\n",
              "      <td>0.0</td>\n",
              "      <td>0.000000</td>\n",
              "      <td>0.0</td>\n",
              "      <td>0.0</td>\n",
              "      <td>0.0</td>\n",
              "      <td>0.000000</td>\n",
              "      <td>0.0</td>\n",
              "      <td>0.0</td>\n",
              "      <td>0.0</td>\n",
              "      <td>0.0</td>\n",
              "      <td>0.0</td>\n",
              "      <td>0.0</td>\n",
              "      <td>0.0</td>\n",
              "      <td>0.0</td>\n",
              "      <td>0.0</td>\n",
              "      <td>0.0</td>\n",
              "      <td>0.0</td>\n",
              "      <td>0.0</td>\n",
              "      <td>0.0</td>\n",
              "      <td>0.000000</td>\n",
              "      <td>0.0</td>\n",
              "      <td>0.000000</td>\n",
              "      <td>0.000000</td>\n",
              "      <td>0.0</td>\n",
              "      <td>0.000000</td>\n",
              "      <td>0.000002</td>\n",
              "      <td>0.0</td>\n",
              "      <td>0.0</td>\n",
              "      <td>0.0</td>\n",
              "      <td>0.0</td>\n",
              "      <td>0.000036</td>\n",
              "      <td>0.0</td>\n",
              "      <td>0.0</td>\n",
              "      <td>0.0</td>\n",
              "      <td>0.0</td>\n",
              "      <td>5.492411e-07</td>\n",
              "      <td>0.000046</td>\n",
              "      <td>0.0</td>\n",
              "      <td>0.0</td>\n",
              "      <td>0.0</td>\n",
              "    </tr>\n",
              "    <tr>\n",
              "      <th>child_topic_1</th>\n",
              "      <td>0.0</td>\n",
              "      <td>0.0</td>\n",
              "      <td>0.0</td>\n",
              "      <td>0.0</td>\n",
              "      <td>0.0</td>\n",
              "      <td>0.0</td>\n",
              "      <td>0.0</td>\n",
              "      <td>0.000000</td>\n",
              "      <td>0.0</td>\n",
              "      <td>0.0</td>\n",
              "      <td>0.0</td>\n",
              "      <td>0.0</td>\n",
              "      <td>0.000011</td>\n",
              "      <td>0.0</td>\n",
              "      <td>0.0</td>\n",
              "      <td>0.0</td>\n",
              "      <td>0.0</td>\n",
              "      <td>0.0</td>\n",
              "      <td>0.0</td>\n",
              "      <td>0.000000</td>\n",
              "      <td>0.0</td>\n",
              "      <td>0.0</td>\n",
              "      <td>0.0</td>\n",
              "      <td>0.0</td>\n",
              "      <td>0.0</td>\n",
              "      <td>0.000000</td>\n",
              "      <td>0.000014</td>\n",
              "      <td>0.0</td>\n",
              "      <td>0.0</td>\n",
              "      <td>0.000000</td>\n",
              "      <td>0.0</td>\n",
              "      <td>0.000000</td>\n",
              "      <td>0.0</td>\n",
              "      <td>0.0</td>\n",
              "      <td>0.000000</td>\n",
              "      <td>0.0</td>\n",
              "      <td>0.0</td>\n",
              "      <td>0.0</td>\n",
              "      <td>0.0</td>\n",
              "      <td>0.0</td>\n",
              "      <td>...</td>\n",
              "      <td>0.0</td>\n",
              "      <td>0.000000</td>\n",
              "      <td>0.0</td>\n",
              "      <td>0.0</td>\n",
              "      <td>0.0</td>\n",
              "      <td>0.000027</td>\n",
              "      <td>0.0</td>\n",
              "      <td>0.0</td>\n",
              "      <td>0.0</td>\n",
              "      <td>0.0</td>\n",
              "      <td>0.0</td>\n",
              "      <td>0.0</td>\n",
              "      <td>0.0</td>\n",
              "      <td>0.0</td>\n",
              "      <td>0.0</td>\n",
              "      <td>0.0</td>\n",
              "      <td>0.0</td>\n",
              "      <td>0.0</td>\n",
              "      <td>0.0</td>\n",
              "      <td>0.000017</td>\n",
              "      <td>0.0</td>\n",
              "      <td>0.000017</td>\n",
              "      <td>0.000000</td>\n",
              "      <td>0.0</td>\n",
              "      <td>0.000017</td>\n",
              "      <td>0.000000</td>\n",
              "      <td>0.0</td>\n",
              "      <td>0.0</td>\n",
              "      <td>0.0</td>\n",
              "      <td>0.0</td>\n",
              "      <td>0.000043</td>\n",
              "      <td>0.0</td>\n",
              "      <td>0.0</td>\n",
              "      <td>0.0</td>\n",
              "      <td>0.0</td>\n",
              "      <td>0.000000e+00</td>\n",
              "      <td>0.000017</td>\n",
              "      <td>0.0</td>\n",
              "      <td>0.0</td>\n",
              "      <td>0.0</td>\n",
              "    </tr>\n",
              "    <tr>\n",
              "      <th>child_topic_2</th>\n",
              "      <td>0.0</td>\n",
              "      <td>0.0</td>\n",
              "      <td>0.0</td>\n",
              "      <td>0.0</td>\n",
              "      <td>0.0</td>\n",
              "      <td>0.0</td>\n",
              "      <td>0.0</td>\n",
              "      <td>0.000000</td>\n",
              "      <td>0.0</td>\n",
              "      <td>0.0</td>\n",
              "      <td>0.0</td>\n",
              "      <td>0.0</td>\n",
              "      <td>0.000000</td>\n",
              "      <td>0.0</td>\n",
              "      <td>0.0</td>\n",
              "      <td>0.0</td>\n",
              "      <td>0.0</td>\n",
              "      <td>0.0</td>\n",
              "      <td>0.0</td>\n",
              "      <td>0.000000</td>\n",
              "      <td>0.0</td>\n",
              "      <td>0.0</td>\n",
              "      <td>0.0</td>\n",
              "      <td>0.0</td>\n",
              "      <td>0.0</td>\n",
              "      <td>0.000000</td>\n",
              "      <td>0.000000</td>\n",
              "      <td>0.0</td>\n",
              "      <td>0.0</td>\n",
              "      <td>0.000000</td>\n",
              "      <td>0.0</td>\n",
              "      <td>0.000000</td>\n",
              "      <td>0.0</td>\n",
              "      <td>0.0</td>\n",
              "      <td>0.000000</td>\n",
              "      <td>0.0</td>\n",
              "      <td>0.0</td>\n",
              "      <td>0.0</td>\n",
              "      <td>0.0</td>\n",
              "      <td>0.0</td>\n",
              "      <td>...</td>\n",
              "      <td>0.0</td>\n",
              "      <td>0.000000</td>\n",
              "      <td>0.0</td>\n",
              "      <td>0.0</td>\n",
              "      <td>0.0</td>\n",
              "      <td>0.000000</td>\n",
              "      <td>0.0</td>\n",
              "      <td>0.0</td>\n",
              "      <td>0.0</td>\n",
              "      <td>0.0</td>\n",
              "      <td>0.0</td>\n",
              "      <td>0.0</td>\n",
              "      <td>0.0</td>\n",
              "      <td>0.0</td>\n",
              "      <td>0.0</td>\n",
              "      <td>0.0</td>\n",
              "      <td>0.0</td>\n",
              "      <td>0.0</td>\n",
              "      <td>0.0</td>\n",
              "      <td>0.000000</td>\n",
              "      <td>0.0</td>\n",
              "      <td>0.000000</td>\n",
              "      <td>0.000000</td>\n",
              "      <td>0.0</td>\n",
              "      <td>0.000000</td>\n",
              "      <td>0.000000</td>\n",
              "      <td>0.0</td>\n",
              "      <td>0.0</td>\n",
              "      <td>0.0</td>\n",
              "      <td>0.0</td>\n",
              "      <td>0.000054</td>\n",
              "      <td>0.0</td>\n",
              "      <td>0.0</td>\n",
              "      <td>0.0</td>\n",
              "      <td>0.0</td>\n",
              "      <td>0.000000e+00</td>\n",
              "      <td>0.000061</td>\n",
              "      <td>0.0</td>\n",
              "      <td>0.0</td>\n",
              "      <td>0.0</td>\n",
              "    </tr>\n",
              "    <tr>\n",
              "      <th>child_topic_3</th>\n",
              "      <td>0.0</td>\n",
              "      <td>0.0</td>\n",
              "      <td>0.0</td>\n",
              "      <td>0.0</td>\n",
              "      <td>0.0</td>\n",
              "      <td>0.0</td>\n",
              "      <td>0.0</td>\n",
              "      <td>0.000000</td>\n",
              "      <td>0.0</td>\n",
              "      <td>0.0</td>\n",
              "      <td>0.0</td>\n",
              "      <td>0.0</td>\n",
              "      <td>0.000000</td>\n",
              "      <td>0.0</td>\n",
              "      <td>0.0</td>\n",
              "      <td>0.0</td>\n",
              "      <td>0.0</td>\n",
              "      <td>0.0</td>\n",
              "      <td>0.0</td>\n",
              "      <td>0.000000</td>\n",
              "      <td>0.0</td>\n",
              "      <td>0.0</td>\n",
              "      <td>0.0</td>\n",
              "      <td>0.0</td>\n",
              "      <td>0.0</td>\n",
              "      <td>0.000000</td>\n",
              "      <td>0.000000</td>\n",
              "      <td>0.0</td>\n",
              "      <td>0.0</td>\n",
              "      <td>0.000000</td>\n",
              "      <td>0.0</td>\n",
              "      <td>0.000000</td>\n",
              "      <td>0.0</td>\n",
              "      <td>0.0</td>\n",
              "      <td>0.000000</td>\n",
              "      <td>0.0</td>\n",
              "      <td>0.0</td>\n",
              "      <td>0.0</td>\n",
              "      <td>0.0</td>\n",
              "      <td>0.0</td>\n",
              "      <td>...</td>\n",
              "      <td>0.0</td>\n",
              "      <td>0.000000</td>\n",
              "      <td>0.0</td>\n",
              "      <td>0.0</td>\n",
              "      <td>0.0</td>\n",
              "      <td>0.000000</td>\n",
              "      <td>0.0</td>\n",
              "      <td>0.0</td>\n",
              "      <td>0.0</td>\n",
              "      <td>0.0</td>\n",
              "      <td>0.0</td>\n",
              "      <td>0.0</td>\n",
              "      <td>0.0</td>\n",
              "      <td>0.0</td>\n",
              "      <td>0.0</td>\n",
              "      <td>0.0</td>\n",
              "      <td>0.0</td>\n",
              "      <td>0.0</td>\n",
              "      <td>0.0</td>\n",
              "      <td>0.000000</td>\n",
              "      <td>0.0</td>\n",
              "      <td>0.000000</td>\n",
              "      <td>0.000000</td>\n",
              "      <td>0.0</td>\n",
              "      <td>0.000000</td>\n",
              "      <td>0.000000</td>\n",
              "      <td>0.0</td>\n",
              "      <td>0.0</td>\n",
              "      <td>0.0</td>\n",
              "      <td>0.0</td>\n",
              "      <td>0.000054</td>\n",
              "      <td>0.0</td>\n",
              "      <td>0.0</td>\n",
              "      <td>0.0</td>\n",
              "      <td>0.0</td>\n",
              "      <td>0.000000e+00</td>\n",
              "      <td>0.000003</td>\n",
              "      <td>0.0</td>\n",
              "      <td>0.0</td>\n",
              "      <td>0.0</td>\n",
              "    </tr>\n",
              "    <tr>\n",
              "      <th>child_topic_4</th>\n",
              "      <td>0.0</td>\n",
              "      <td>0.0</td>\n",
              "      <td>0.0</td>\n",
              "      <td>0.0</td>\n",
              "      <td>0.0</td>\n",
              "      <td>0.0</td>\n",
              "      <td>0.0</td>\n",
              "      <td>0.000016</td>\n",
              "      <td>0.0</td>\n",
              "      <td>0.0</td>\n",
              "      <td>0.0</td>\n",
              "      <td>0.0</td>\n",
              "      <td>0.000000</td>\n",
              "      <td>0.0</td>\n",
              "      <td>0.0</td>\n",
              "      <td>0.0</td>\n",
              "      <td>0.0</td>\n",
              "      <td>0.0</td>\n",
              "      <td>0.0</td>\n",
              "      <td>0.000016</td>\n",
              "      <td>0.0</td>\n",
              "      <td>0.0</td>\n",
              "      <td>0.0</td>\n",
              "      <td>0.0</td>\n",
              "      <td>0.0</td>\n",
              "      <td>0.000000</td>\n",
              "      <td>0.000000</td>\n",
              "      <td>0.0</td>\n",
              "      <td>0.0</td>\n",
              "      <td>0.000016</td>\n",
              "      <td>0.0</td>\n",
              "      <td>0.000033</td>\n",
              "      <td>0.0</td>\n",
              "      <td>0.0</td>\n",
              "      <td>0.000000</td>\n",
              "      <td>0.0</td>\n",
              "      <td>0.0</td>\n",
              "      <td>0.0</td>\n",
              "      <td>0.0</td>\n",
              "      <td>0.0</td>\n",
              "      <td>...</td>\n",
              "      <td>0.0</td>\n",
              "      <td>0.000008</td>\n",
              "      <td>0.0</td>\n",
              "      <td>0.0</td>\n",
              "      <td>0.0</td>\n",
              "      <td>0.000000</td>\n",
              "      <td>0.0</td>\n",
              "      <td>0.0</td>\n",
              "      <td>0.0</td>\n",
              "      <td>0.0</td>\n",
              "      <td>0.0</td>\n",
              "      <td>0.0</td>\n",
              "      <td>0.0</td>\n",
              "      <td>0.0</td>\n",
              "      <td>0.0</td>\n",
              "      <td>0.0</td>\n",
              "      <td>0.0</td>\n",
              "      <td>0.0</td>\n",
              "      <td>0.0</td>\n",
              "      <td>0.000000</td>\n",
              "      <td>0.0</td>\n",
              "      <td>0.000000</td>\n",
              "      <td>0.000007</td>\n",
              "      <td>0.0</td>\n",
              "      <td>0.000000</td>\n",
              "      <td>0.000000</td>\n",
              "      <td>0.0</td>\n",
              "      <td>0.0</td>\n",
              "      <td>0.0</td>\n",
              "      <td>0.0</td>\n",
              "      <td>0.000004</td>\n",
              "      <td>0.0</td>\n",
              "      <td>0.0</td>\n",
              "      <td>0.0</td>\n",
              "      <td>0.0</td>\n",
              "      <td>0.000000e+00</td>\n",
              "      <td>0.000021</td>\n",
              "      <td>0.0</td>\n",
              "      <td>0.0</td>\n",
              "      <td>0.0</td>\n",
              "    </tr>\n",
              "  </tbody>\n",
              "</table>\n",
              "<p>5 rows × 62841 columns</p>\n",
              "</div>"
            ],
            "text/plain": [
              "               нерезультативный  документироваться  ...  титаномагнетит  ильменит\n",
              "child_topic_0               0.0                0.0  ...             0.0       0.0\n",
              "child_topic_1               0.0                0.0  ...             0.0       0.0\n",
              "child_topic_2               0.0                0.0  ...             0.0       0.0\n",
              "child_topic_3               0.0                0.0  ...             0.0       0.0\n",
              "child_topic_4               0.0                0.0  ...             0.0       0.0\n",
              "\n",
              "[5 rows x 62841 columns]"
            ]
          },
          "metadata": {
            "tags": []
          },
          "execution_count": 39
        }
      ]
    },
    {
      "cell_type": "code",
      "metadata": {
        "id": "BvDq5T8lzxBI",
        "colab": {
          "base_uri": "https://localhost:8080/"
        },
        "outputId": "89f756ae-5ec0-42c2-a7dd-611630d6a636"
      },
      "source": [
        "!pip install -q pyldavis\n",
        "import pyLDAvis"
      ],
      "execution_count": null,
      "outputs": [
        {
          "output_type": "stream",
          "text": [
            "\u001b[?25l\r\u001b[K     |▏                               | 10kB 24.3MB/s eta 0:00:01\r\u001b[K     |▍                               | 20kB 30.5MB/s eta 0:00:01\r\u001b[K     |▋                               | 30kB 26.9MB/s eta 0:00:01\r\u001b[K     |▉                               | 40kB 30.2MB/s eta 0:00:01\r\u001b[K     |█                               | 51kB 28.5MB/s eta 0:00:01\r\u001b[K     |█▏                              | 61kB 30.8MB/s eta 0:00:01\r\u001b[K     |█▍                              | 71kB 20.1MB/s eta 0:00:01\r\u001b[K     |█▋                              | 81kB 20.6MB/s eta 0:00:01\r\u001b[K     |█▉                              | 92kB 19.9MB/s eta 0:00:01\r\u001b[K     |██                              | 102kB 20.0MB/s eta 0:00:01\r\u001b[K     |██▏                             | 112kB 20.0MB/s eta 0:00:01\r\u001b[K     |██▍                             | 122kB 20.0MB/s eta 0:00:01\r\u001b[K     |██▋                             | 133kB 20.0MB/s eta 0:00:01\r\u001b[K     |██▊                             | 143kB 20.0MB/s eta 0:00:01\r\u001b[K     |███                             | 153kB 20.0MB/s eta 0:00:01\r\u001b[K     |███▏                            | 163kB 20.0MB/s eta 0:00:01\r\u001b[K     |███▍                            | 174kB 20.0MB/s eta 0:00:01\r\u001b[K     |███▋                            | 184kB 20.0MB/s eta 0:00:01\r\u001b[K     |███▊                            | 194kB 20.0MB/s eta 0:00:01\r\u001b[K     |████                            | 204kB 20.0MB/s eta 0:00:01\r\u001b[K     |████▏                           | 215kB 20.0MB/s eta 0:00:01\r\u001b[K     |████▍                           | 225kB 20.0MB/s eta 0:00:01\r\u001b[K     |████▋                           | 235kB 20.0MB/s eta 0:00:01\r\u001b[K     |████▊                           | 245kB 20.0MB/s eta 0:00:01\r\u001b[K     |█████                           | 256kB 20.0MB/s eta 0:00:01\r\u001b[K     |█████▏                          | 266kB 20.0MB/s eta 0:00:01\r\u001b[K     |█████▍                          | 276kB 20.0MB/s eta 0:00:01\r\u001b[K     |█████▌                          | 286kB 20.0MB/s eta 0:00:01\r\u001b[K     |█████▊                          | 296kB 20.0MB/s eta 0:00:01\r\u001b[K     |██████                          | 307kB 20.0MB/s eta 0:00:01\r\u001b[K     |██████▏                         | 317kB 20.0MB/s eta 0:00:01\r\u001b[K     |██████▍                         | 327kB 20.0MB/s eta 0:00:01\r\u001b[K     |██████▌                         | 337kB 20.0MB/s eta 0:00:01\r\u001b[K     |██████▊                         | 348kB 20.0MB/s eta 0:00:01\r\u001b[K     |███████                         | 358kB 20.0MB/s eta 0:00:01\r\u001b[K     |███████▏                        | 368kB 20.0MB/s eta 0:00:01\r\u001b[K     |███████▎                        | 378kB 20.0MB/s eta 0:00:01\r\u001b[K     |███████▌                        | 389kB 20.0MB/s eta 0:00:01\r\u001b[K     |███████▊                        | 399kB 20.0MB/s eta 0:00:01\r\u001b[K     |████████                        | 409kB 20.0MB/s eta 0:00:01\r\u001b[K     |████████▏                       | 419kB 20.0MB/s eta 0:00:01\r\u001b[K     |████████▎                       | 430kB 20.0MB/s eta 0:00:01\r\u001b[K     |████████▌                       | 440kB 20.0MB/s eta 0:00:01\r\u001b[K     |████████▊                       | 450kB 20.0MB/s eta 0:00:01\r\u001b[K     |█████████                       | 460kB 20.0MB/s eta 0:00:01\r\u001b[K     |█████████▏                      | 471kB 20.0MB/s eta 0:00:01\r\u001b[K     |█████████▎                      | 481kB 20.0MB/s eta 0:00:01\r\u001b[K     |█████████▌                      | 491kB 20.0MB/s eta 0:00:01\r\u001b[K     |█████████▊                      | 501kB 20.0MB/s eta 0:00:01\r\u001b[K     |██████████                      | 512kB 20.0MB/s eta 0:00:01\r\u001b[K     |██████████                      | 522kB 20.0MB/s eta 0:00:01\r\u001b[K     |██████████▎                     | 532kB 20.0MB/s eta 0:00:01\r\u001b[K     |██████████▌                     | 542kB 20.0MB/s eta 0:00:01\r\u001b[K     |██████████▊                     | 552kB 20.0MB/s eta 0:00:01\r\u001b[K     |███████████                     | 563kB 20.0MB/s eta 0:00:01\r\u001b[K     |███████████                     | 573kB 20.0MB/s eta 0:00:01\r\u001b[K     |███████████▎                    | 583kB 20.0MB/s eta 0:00:01\r\u001b[K     |███████████▌                    | 593kB 20.0MB/s eta 0:00:01\r\u001b[K     |███████████▊                    | 604kB 20.0MB/s eta 0:00:01\r\u001b[K     |███████████▉                    | 614kB 20.0MB/s eta 0:00:01\r\u001b[K     |████████████                    | 624kB 20.0MB/s eta 0:00:01\r\u001b[K     |████████████▎                   | 634kB 20.0MB/s eta 0:00:01\r\u001b[K     |████████████▌                   | 645kB 20.0MB/s eta 0:00:01\r\u001b[K     |████████████▊                   | 655kB 20.0MB/s eta 0:00:01\r\u001b[K     |████████████▉                   | 665kB 20.0MB/s eta 0:00:01\r\u001b[K     |█████████████                   | 675kB 20.0MB/s eta 0:00:01\r\u001b[K     |█████████████▎                  | 686kB 20.0MB/s eta 0:00:01\r\u001b[K     |█████████████▌                  | 696kB 20.0MB/s eta 0:00:01\r\u001b[K     |█████████████▊                  | 706kB 20.0MB/s eta 0:00:01\r\u001b[K     |█████████████▉                  | 716kB 20.0MB/s eta 0:00:01\r\u001b[K     |██████████████                  | 727kB 20.0MB/s eta 0:00:01\r\u001b[K     |██████████████▎                 | 737kB 20.0MB/s eta 0:00:01\r\u001b[K     |██████████████▌                 | 747kB 20.0MB/s eta 0:00:01\r\u001b[K     |██████████████▋                 | 757kB 20.0MB/s eta 0:00:01\r\u001b[K     |██████████████▉                 | 768kB 20.0MB/s eta 0:00:01\r\u001b[K     |███████████████                 | 778kB 20.0MB/s eta 0:00:01\r\u001b[K     |███████████████▎                | 788kB 20.0MB/s eta 0:00:01\r\u001b[K     |███████████████▌                | 798kB 20.0MB/s eta 0:00:01\r\u001b[K     |███████████████▋                | 808kB 20.0MB/s eta 0:00:01\r\u001b[K     |███████████████▉                | 819kB 20.0MB/s eta 0:00:01\r\u001b[K     |████████████████                | 829kB 20.0MB/s eta 0:00:01\r\u001b[K     |████████████████▎               | 839kB 20.0MB/s eta 0:00:01\r\u001b[K     |████████████████▍               | 849kB 20.0MB/s eta 0:00:01\r\u001b[K     |████████████████▋               | 860kB 20.0MB/s eta 0:00:01\r\u001b[K     |████████████████▉               | 870kB 20.0MB/s eta 0:00:01\r\u001b[K     |█████████████████               | 880kB 20.0MB/s eta 0:00:01\r\u001b[K     |█████████████████▎              | 890kB 20.0MB/s eta 0:00:01\r\u001b[K     |█████████████████▍              | 901kB 20.0MB/s eta 0:00:01\r\u001b[K     |█████████████████▋              | 911kB 20.0MB/s eta 0:00:01\r\u001b[K     |█████████████████▉              | 921kB 20.0MB/s eta 0:00:01\r\u001b[K     |██████████████████              | 931kB 20.0MB/s eta 0:00:01\r\u001b[K     |██████████████████▎             | 942kB 20.0MB/s eta 0:00:01\r\u001b[K     |██████████████████▍             | 952kB 20.0MB/s eta 0:00:01\r\u001b[K     |██████████████████▋             | 962kB 20.0MB/s eta 0:00:01\r\u001b[K     |██████████████████▉             | 972kB 20.0MB/s eta 0:00:01\r\u001b[K     |███████████████████             | 983kB 20.0MB/s eta 0:00:01\r\u001b[K     |███████████████████▏            | 993kB 20.0MB/s eta 0:00:01\r\u001b[K     |███████████████████▍            | 1.0MB 20.0MB/s eta 0:00:01\r\u001b[K     |███████████████████▋            | 1.0MB 20.0MB/s eta 0:00:01\r\u001b[K     |███████████████████▉            | 1.0MB 20.0MB/s eta 0:00:01\r\u001b[K     |████████████████████            | 1.0MB 20.0MB/s eta 0:00:01\r\u001b[K     |████████████████████▏           | 1.0MB 20.0MB/s eta 0:00:01\r\u001b[K     |████████████████████▍           | 1.1MB 20.0MB/s eta 0:00:01\r\u001b[K     |████████████████████▋           | 1.1MB 20.0MB/s eta 0:00:01\r\u001b[K     |████████████████████▉           | 1.1MB 20.0MB/s eta 0:00:01\r\u001b[K     |█████████████████████           | 1.1MB 20.0MB/s eta 0:00:01\r\u001b[K     |█████████████████████▏          | 1.1MB 20.0MB/s eta 0:00:01\r\u001b[K     |█████████████████████▍          | 1.1MB 20.0MB/s eta 0:00:01\r\u001b[K     |█████████████████████▋          | 1.1MB 20.0MB/s eta 0:00:01\r\u001b[K     |█████████████████████▉          | 1.1MB 20.0MB/s eta 0:00:01\r\u001b[K     |██████████████████████          | 1.1MB 20.0MB/s eta 0:00:01\r\u001b[K     |██████████████████████▏         | 1.1MB 20.0MB/s eta 0:00:01\r\u001b[K     |██████████████████████▍         | 1.2MB 20.0MB/s eta 0:00:01\r\u001b[K     |██████████████████████▋         | 1.2MB 20.0MB/s eta 0:00:01\r\u001b[K     |██████████████████████▉         | 1.2MB 20.0MB/s eta 0:00:01\r\u001b[K     |███████████████████████         | 1.2MB 20.0MB/s eta 0:00:01\r\u001b[K     |███████████████████████▏        | 1.2MB 20.0MB/s eta 0:00:01\r\u001b[K     |███████████████████████▍        | 1.2MB 20.0MB/s eta 0:00:01\r\u001b[K     |███████████████████████▋        | 1.2MB 20.0MB/s eta 0:00:01\r\u001b[K     |███████████████████████▊        | 1.2MB 20.0MB/s eta 0:00:01\r\u001b[K     |████████████████████████        | 1.2MB 20.0MB/s eta 0:00:01\r\u001b[K     |████████████████████████▏       | 1.2MB 20.0MB/s eta 0:00:01\r\u001b[K     |████████████████████████▍       | 1.3MB 20.0MB/s eta 0:00:01\r\u001b[K     |████████████████████████▋       | 1.3MB 20.0MB/s eta 0:00:01\r\u001b[K     |████████████████████████▊       | 1.3MB 20.0MB/s eta 0:00:01\r\u001b[K     |█████████████████████████       | 1.3MB 20.0MB/s eta 0:00:01\r\u001b[K     |█████████████████████████▏      | 1.3MB 20.0MB/s eta 0:00:01\r\u001b[K     |█████████████████████████▍      | 1.3MB 20.0MB/s eta 0:00:01\r\u001b[K     |█████████████████████████▌      | 1.3MB 20.0MB/s eta 0:00:01\r\u001b[K     |█████████████████████████▊      | 1.3MB 20.0MB/s eta 0:00:01\r\u001b[K     |██████████████████████████      | 1.3MB 20.0MB/s eta 0:00:01\r\u001b[K     |██████████████████████████▏     | 1.4MB 20.0MB/s eta 0:00:01\r\u001b[K     |██████████████████████████▍     | 1.4MB 20.0MB/s eta 0:00:01\r\u001b[K     |██████████████████████████▌     | 1.4MB 20.0MB/s eta 0:00:01\r\u001b[K     |██████████████████████████▊     | 1.4MB 20.0MB/s eta 0:00:01\r\u001b[K     |███████████████████████████     | 1.4MB 20.0MB/s eta 0:00:01\r\u001b[K     |███████████████████████████▏    | 1.4MB 20.0MB/s eta 0:00:01\r\u001b[K     |███████████████████████████▍    | 1.4MB 20.0MB/s eta 0:00:01\r\u001b[K     |███████████████████████████▌    | 1.4MB 20.0MB/s eta 0:00:01\r\u001b[K     |███████████████████████████▊    | 1.4MB 20.0MB/s eta 0:00:01\r\u001b[K     |████████████████████████████    | 1.4MB 20.0MB/s eta 0:00:01\r\u001b[K     |████████████████████████████▏   | 1.5MB 20.0MB/s eta 0:00:01\r\u001b[K     |████████████████████████████▎   | 1.5MB 20.0MB/s eta 0:00:01\r\u001b[K     |████████████████████████████▌   | 1.5MB 20.0MB/s eta 0:00:01\r\u001b[K     |████████████████████████████▊   | 1.5MB 20.0MB/s eta 0:00:01\r\u001b[K     |█████████████████████████████   | 1.5MB 20.0MB/s eta 0:00:01\r\u001b[K     |█████████████████████████████▏  | 1.5MB 20.0MB/s eta 0:00:01\r\u001b[K     |█████████████████████████████▎  | 1.5MB 20.0MB/s eta 0:00:01\r\u001b[K     |█████████████████████████████▌  | 1.5MB 20.0MB/s eta 0:00:01\r\u001b[K     |█████████████████████████████▊  | 1.5MB 20.0MB/s eta 0:00:01\r\u001b[K     |██████████████████████████████  | 1.5MB 20.0MB/s eta 0:00:01\r\u001b[K     |██████████████████████████████▏ | 1.6MB 20.0MB/s eta 0:00:01\r\u001b[K     |██████████████████████████████▎ | 1.6MB 20.0MB/s eta 0:00:01\r\u001b[K     |██████████████████████████████▌ | 1.6MB 20.0MB/s eta 0:00:01\r\u001b[K     |██████████████████████████████▊ | 1.6MB 20.0MB/s eta 0:00:01\r\u001b[K     |███████████████████████████████ | 1.6MB 20.0MB/s eta 0:00:01\r\u001b[K     |███████████████████████████████ | 1.6MB 20.0MB/s eta 0:00:01\r\u001b[K     |███████████████████████████████▎| 1.6MB 20.0MB/s eta 0:00:01\r\u001b[K     |███████████████████████████████▌| 1.6MB 20.0MB/s eta 0:00:01\r\u001b[K     |███████████████████████████████▊| 1.6MB 20.0MB/s eta 0:00:01\r\u001b[K     |████████████████████████████████| 1.6MB 20.0MB/s eta 0:00:01\r\u001b[K     |████████████████████████████████| 1.7MB 20.0MB/s \n",
            "\u001b[?25h  Installing build dependencies ... \u001b[?25l\u001b[?25hdone\n",
            "  Getting requirements to build wheel ... \u001b[?25l\u001b[?25hdone\n",
            "  Installing backend dependencies ... \u001b[?25l\u001b[?25hdone\n",
            "    Preparing wheel metadata ... \u001b[?25l\u001b[?25hdone\n",
            "\u001b[K     |████████████████████████████████| 15.3MB 211kB/s \n",
            "\u001b[K     |████████████████████████████████| 9.9MB 50.2MB/s \n",
            "\u001b[?25h  Building wheel for pyldavis (PEP 517) ... \u001b[?25l\u001b[?25hdone\n",
            "\u001b[31mERROR: tensorflow 2.4.1 has requirement numpy~=1.19.2, but you'll have numpy 1.20.2 which is incompatible.\u001b[0m\n",
            "\u001b[31mERROR: google-colab 1.0.0 has requirement pandas~=1.1.0; python_version >= \"3.0\", but you'll have pandas 1.2.3 which is incompatible.\u001b[0m\n",
            "\u001b[31mERROR: datascience 0.10.6 has requirement folium==0.2.1, but you'll have folium 0.8.3 which is incompatible.\u001b[0m\n",
            "\u001b[31mERROR: albumentations 0.1.12 has requirement imgaug<0.2.7,>=0.2.5, but you'll have imgaug 0.2.9 which is incompatible.\u001b[0m\n"
          ],
          "name": "stdout"
        }
      ]
    },
    {
      "cell_type": "code",
      "metadata": {
        "id": "c6IfGROYVAM8"
      },
      "source": [
        "doc_lengths = []\n",
        "with open(gDrivePath + 'vw_rp_2015.txt', 'r') as file:\n",
        "    for i in range(1459):\n",
        "        words = file.readline().split()[2:]\n",
        "        doc_lengths.append(len(words))"
      ],
      "execution_count": null,
      "outputs": []
    },
    {
      "cell_type": "code",
      "metadata": {
        "colab": {
          "base_uri": "https://localhost:8080/"
        },
        "id": "NN4ZVzkz0zV4",
        "outputId": "32cb3351-0a3e-41f3-ebe4-7950a744ceaf"
      },
      "source": [
        "html = pyLDAvis.prepare(topic_term_dists = phi_T.values, \n",
        "                        doc_topic_dists = theta_T.values, \n",
        "                        doc_lengths = doc_lengths,\n",
        "                        vocab = phi_T.columns,\n",
        "                        term_frequency = dictionary._master.get_dictionary(dictionary._name).token_tf,\n",
        "                        R = 15)\n",
        "\n",
        "pyLDAvis.save_html(html, 'hARTM.html')"
      ],
      "execution_count": null,
      "outputs": [
        {
          "output_type": "stream",
          "text": [
            "/usr/local/lib/python3.7/dist-packages/pyLDAvis/_prepare.py:235: RuntimeWarning: divide by zero encountered in log\n",
            "  log_1 = np.log(pd.eval(\"topic_given_term.T / topic_proportion\"))\n",
            "/usr/local/lib/python3.7/dist-packages/pyLDAvis/_prepare.py:258: RuntimeWarning: divide by zero encountered in log\n",
            "  log_lift = np.log(pd.eval(\"topic_term_dists / term_proportion\")).astype(\"float64\")\n",
            "/usr/local/lib/python3.7/dist-packages/pyLDAvis/_prepare.py:259: RuntimeWarning: divide by zero encountered in log\n",
            "  log_ttd = np.log(pd.eval(\"topic_term_dists\")).astype(\"float64\")\n"
          ],
          "name": "stderr"
        }
      ]
    },
    {
      "cell_type": "code",
      "metadata": {
        "id": "ek-7vvroOOSK",
        "colab": {
          "base_uri": "https://localhost:8080/",
          "height": 255
        },
        "outputId": "f34c1db9-b383-48a8-99f3-0523e1014be8"
      },
      "source": [
        "F = level1.get_theta()\n",
        "F.to_csv(gDrivePath + 'F_2015.csv', index=False)\n",
        "F.head()"
      ],
      "execution_count": null,
      "outputs": [
        {
          "output_type": "execute_result",
          "data": {
            "text/html": [
              "<div>\n",
              "<style scoped>\n",
              "    .dataframe tbody tr th:only-of-type {\n",
              "        vertical-align: middle;\n",
              "    }\n",
              "\n",
              "    .dataframe tbody tr th {\n",
              "        vertical-align: top;\n",
              "    }\n",
              "\n",
              "    .dataframe thead th {\n",
              "        text-align: right;\n",
              "    }\n",
              "</style>\n",
              "<table border=\"1\" class=\"dataframe\">\n",
              "  <thead>\n",
              "    <tr style=\"text-align: right;\">\n",
              "      <th></th>\n",
              "      <th>0</th>\n",
              "      <th>1</th>\n",
              "      <th>2</th>\n",
              "      <th>3</th>\n",
              "      <th>4</th>\n",
              "      <th>5</th>\n",
              "      <th>6</th>\n",
              "      <th>7</th>\n",
              "      <th>8</th>\n",
              "      <th>9</th>\n",
              "      <th>10</th>\n",
              "      <th>11</th>\n",
              "      <th>12</th>\n",
              "      <th>13</th>\n",
              "      <th>14</th>\n",
              "      <th>15</th>\n",
              "      <th>16</th>\n",
              "      <th>17</th>\n",
              "      <th>18</th>\n",
              "      <th>19</th>\n",
              "      <th>20</th>\n",
              "      <th>21</th>\n",
              "      <th>22</th>\n",
              "      <th>23</th>\n",
              "      <th>24</th>\n",
              "      <th>25</th>\n",
              "      <th>26</th>\n",
              "      <th>27</th>\n",
              "      <th>28</th>\n",
              "      <th>29</th>\n",
              "      <th>30</th>\n",
              "      <th>31</th>\n",
              "      <th>32</th>\n",
              "      <th>33</th>\n",
              "      <th>34</th>\n",
              "      <th>35</th>\n",
              "      <th>36</th>\n",
              "      <th>37</th>\n",
              "      <th>38</th>\n",
              "      <th>39</th>\n",
              "      <th>...</th>\n",
              "      <th>1419</th>\n",
              "      <th>1420</th>\n",
              "      <th>1421</th>\n",
              "      <th>1422</th>\n",
              "      <th>1423</th>\n",
              "      <th>1424</th>\n",
              "      <th>1425</th>\n",
              "      <th>1426</th>\n",
              "      <th>1427</th>\n",
              "      <th>1428</th>\n",
              "      <th>1429</th>\n",
              "      <th>1430</th>\n",
              "      <th>1431</th>\n",
              "      <th>1432</th>\n",
              "      <th>1433</th>\n",
              "      <th>1434</th>\n",
              "      <th>1435</th>\n",
              "      <th>1436</th>\n",
              "      <th>1437</th>\n",
              "      <th>1438</th>\n",
              "      <th>1439</th>\n",
              "      <th>1440</th>\n",
              "      <th>1441</th>\n",
              "      <th>1442</th>\n",
              "      <th>1443</th>\n",
              "      <th>1444</th>\n",
              "      <th>1445</th>\n",
              "      <th>1446</th>\n",
              "      <th>1447</th>\n",
              "      <th>1448</th>\n",
              "      <th>1449</th>\n",
              "      <th>1450</th>\n",
              "      <th>1451</th>\n",
              "      <th>1452</th>\n",
              "      <th>1453</th>\n",
              "      <th>1454</th>\n",
              "      <th>1455</th>\n",
              "      <th>1456</th>\n",
              "      <th>1457</th>\n",
              "      <th>1458</th>\n",
              "    </tr>\n",
              "  </thead>\n",
              "  <tbody>\n",
              "    <tr>\n",
              "      <th>child_topic_0</th>\n",
              "      <td>0.134406</td>\n",
              "      <td>0.204902</td>\n",
              "      <td>0.045138</td>\n",
              "      <td>0.064067</td>\n",
              "      <td>0.084834</td>\n",
              "      <td>0.000000</td>\n",
              "      <td>0.018568</td>\n",
              "      <td>0.249968</td>\n",
              "      <td>0.0</td>\n",
              "      <td>0.00000</td>\n",
              "      <td>0.000000</td>\n",
              "      <td>0.000000</td>\n",
              "      <td>0.000000</td>\n",
              "      <td>0.064552</td>\n",
              "      <td>0.367752</td>\n",
              "      <td>0.000000</td>\n",
              "      <td>0.000000</td>\n",
              "      <td>0.125279</td>\n",
              "      <td>0.22238</td>\n",
              "      <td>0.145606</td>\n",
              "      <td>0.06948</td>\n",
              "      <td>0.000000</td>\n",
              "      <td>0.202819</td>\n",
              "      <td>0.267235</td>\n",
              "      <td>0.000000</td>\n",
              "      <td>0.000000</td>\n",
              "      <td>0.184371</td>\n",
              "      <td>0.0</td>\n",
              "      <td>0.117757</td>\n",
              "      <td>0.0</td>\n",
              "      <td>0.0</td>\n",
              "      <td>0.000000</td>\n",
              "      <td>0.247175</td>\n",
              "      <td>0.000000</td>\n",
              "      <td>0.189715</td>\n",
              "      <td>0.0</td>\n",
              "      <td>0.007330</td>\n",
              "      <td>0.155371</td>\n",
              "      <td>0.416560</td>\n",
              "      <td>0.000000</td>\n",
              "      <td>...</td>\n",
              "      <td>0.000000</td>\n",
              "      <td>0.023698</td>\n",
              "      <td>0.096062</td>\n",
              "      <td>0.0</td>\n",
              "      <td>0.000296</td>\n",
              "      <td>0.002725</td>\n",
              "      <td>0.053124</td>\n",
              "      <td>0.000000</td>\n",
              "      <td>0.075344</td>\n",
              "      <td>0.412305</td>\n",
              "      <td>0.000000</td>\n",
              "      <td>0.479758</td>\n",
              "      <td>0.000044</td>\n",
              "      <td>0.000000</td>\n",
              "      <td>0.0</td>\n",
              "      <td>0.001240</td>\n",
              "      <td>0.006598</td>\n",
              "      <td>0.000000</td>\n",
              "      <td>0.0</td>\n",
              "      <td>0.155748</td>\n",
              "      <td>0.0</td>\n",
              "      <td>0.000193</td>\n",
              "      <td>0.000000</td>\n",
              "      <td>0.110614</td>\n",
              "      <td>0.198281</td>\n",
              "      <td>0.084979</td>\n",
              "      <td>0.0</td>\n",
              "      <td>0.446223</td>\n",
              "      <td>0.000000</td>\n",
              "      <td>0.528358</td>\n",
              "      <td>0.0</td>\n",
              "      <td>0.016148</td>\n",
              "      <td>0.0</td>\n",
              "      <td>0.000000</td>\n",
              "      <td>0.258498</td>\n",
              "      <td>0.009515</td>\n",
              "      <td>0.0</td>\n",
              "      <td>0.250976</td>\n",
              "      <td>0.000000</td>\n",
              "      <td>0.154698</td>\n",
              "    </tr>\n",
              "    <tr>\n",
              "      <th>child_topic_1</th>\n",
              "      <td>0.000327</td>\n",
              "      <td>0.000000</td>\n",
              "      <td>0.000000</td>\n",
              "      <td>0.000000</td>\n",
              "      <td>0.006622</td>\n",
              "      <td>0.008659</td>\n",
              "      <td>0.000000</td>\n",
              "      <td>0.000000</td>\n",
              "      <td>0.0</td>\n",
              "      <td>0.00000</td>\n",
              "      <td>0.003041</td>\n",
              "      <td>0.000000</td>\n",
              "      <td>0.000000</td>\n",
              "      <td>0.047457</td>\n",
              "      <td>0.035524</td>\n",
              "      <td>0.082453</td>\n",
              "      <td>0.000000</td>\n",
              "      <td>0.030145</td>\n",
              "      <td>0.00000</td>\n",
              "      <td>0.004926</td>\n",
              "      <td>0.00000</td>\n",
              "      <td>0.000000</td>\n",
              "      <td>0.000000</td>\n",
              "      <td>0.000000</td>\n",
              "      <td>0.002398</td>\n",
              "      <td>0.033209</td>\n",
              "      <td>0.000000</td>\n",
              "      <td>0.0</td>\n",
              "      <td>0.000000</td>\n",
              "      <td>0.0</td>\n",
              "      <td>0.0</td>\n",
              "      <td>0.000000</td>\n",
              "      <td>0.007542</td>\n",
              "      <td>0.195646</td>\n",
              "      <td>0.013288</td>\n",
              "      <td>0.0</td>\n",
              "      <td>0.189715</td>\n",
              "      <td>0.000000</td>\n",
              "      <td>0.067771</td>\n",
              "      <td>0.000000</td>\n",
              "      <td>...</td>\n",
              "      <td>0.000000</td>\n",
              "      <td>0.000000</td>\n",
              "      <td>0.000000</td>\n",
              "      <td>0.0</td>\n",
              "      <td>0.190584</td>\n",
              "      <td>0.000000</td>\n",
              "      <td>0.001319</td>\n",
              "      <td>0.021922</td>\n",
              "      <td>0.000471</td>\n",
              "      <td>0.000706</td>\n",
              "      <td>0.147675</td>\n",
              "      <td>0.000000</td>\n",
              "      <td>0.004122</td>\n",
              "      <td>0.000000</td>\n",
              "      <td>0.0</td>\n",
              "      <td>0.012063</td>\n",
              "      <td>0.000000</td>\n",
              "      <td>0.000000</td>\n",
              "      <td>0.0</td>\n",
              "      <td>0.124950</td>\n",
              "      <td>0.0</td>\n",
              "      <td>0.000000</td>\n",
              "      <td>0.000000</td>\n",
              "      <td>0.000000</td>\n",
              "      <td>0.090529</td>\n",
              "      <td>0.070760</td>\n",
              "      <td>0.0</td>\n",
              "      <td>0.000000</td>\n",
              "      <td>0.000000</td>\n",
              "      <td>0.078979</td>\n",
              "      <td>0.0</td>\n",
              "      <td>0.126049</td>\n",
              "      <td>0.0</td>\n",
              "      <td>0.002462</td>\n",
              "      <td>0.004701</td>\n",
              "      <td>0.215787</td>\n",
              "      <td>0.0</td>\n",
              "      <td>0.000000</td>\n",
              "      <td>0.018337</td>\n",
              "      <td>0.071560</td>\n",
              "    </tr>\n",
              "    <tr>\n",
              "      <th>child_topic_2</th>\n",
              "      <td>0.000000</td>\n",
              "      <td>0.000000</td>\n",
              "      <td>0.000000</td>\n",
              "      <td>0.000000</td>\n",
              "      <td>0.084650</td>\n",
              "      <td>0.000000</td>\n",
              "      <td>0.000000</td>\n",
              "      <td>0.000000</td>\n",
              "      <td>0.0</td>\n",
              "      <td>0.16295</td>\n",
              "      <td>0.004271</td>\n",
              "      <td>0.000000</td>\n",
              "      <td>0.000000</td>\n",
              "      <td>0.000000</td>\n",
              "      <td>0.000000</td>\n",
              "      <td>0.018093</td>\n",
              "      <td>0.000000</td>\n",
              "      <td>0.007220</td>\n",
              "      <td>0.00000</td>\n",
              "      <td>0.000000</td>\n",
              "      <td>0.00000</td>\n",
              "      <td>0.000000</td>\n",
              "      <td>0.000000</td>\n",
              "      <td>0.000000</td>\n",
              "      <td>0.000000</td>\n",
              "      <td>0.000000</td>\n",
              "      <td>0.000000</td>\n",
              "      <td>0.0</td>\n",
              "      <td>0.000643</td>\n",
              "      <td>0.0</td>\n",
              "      <td>0.0</td>\n",
              "      <td>0.006206</td>\n",
              "      <td>0.000000</td>\n",
              "      <td>0.000000</td>\n",
              "      <td>0.000000</td>\n",
              "      <td>0.0</td>\n",
              "      <td>0.000000</td>\n",
              "      <td>0.000000</td>\n",
              "      <td>0.000000</td>\n",
              "      <td>0.000000</td>\n",
              "      <td>...</td>\n",
              "      <td>0.245277</td>\n",
              "      <td>0.000000</td>\n",
              "      <td>0.000000</td>\n",
              "      <td>0.0</td>\n",
              "      <td>0.000000</td>\n",
              "      <td>0.000000</td>\n",
              "      <td>0.020182</td>\n",
              "      <td>0.008210</td>\n",
              "      <td>0.000000</td>\n",
              "      <td>0.000000</td>\n",
              "      <td>0.000000</td>\n",
              "      <td>0.000000</td>\n",
              "      <td>0.000000</td>\n",
              "      <td>0.000000</td>\n",
              "      <td>0.0</td>\n",
              "      <td>0.000000</td>\n",
              "      <td>0.000000</td>\n",
              "      <td>0.000000</td>\n",
              "      <td>0.0</td>\n",
              "      <td>0.000000</td>\n",
              "      <td>0.0</td>\n",
              "      <td>0.000000</td>\n",
              "      <td>0.000262</td>\n",
              "      <td>0.000000</td>\n",
              "      <td>0.000000</td>\n",
              "      <td>0.000000</td>\n",
              "      <td>0.0</td>\n",
              "      <td>0.000000</td>\n",
              "      <td>0.494355</td>\n",
              "      <td>0.000000</td>\n",
              "      <td>0.0</td>\n",
              "      <td>0.000000</td>\n",
              "      <td>0.0</td>\n",
              "      <td>0.000000</td>\n",
              "      <td>0.000000</td>\n",
              "      <td>0.000000</td>\n",
              "      <td>0.0</td>\n",
              "      <td>0.000000</td>\n",
              "      <td>0.006138</td>\n",
              "      <td>0.000000</td>\n",
              "    </tr>\n",
              "    <tr>\n",
              "      <th>child_topic_3</th>\n",
              "      <td>0.087949</td>\n",
              "      <td>0.000000</td>\n",
              "      <td>0.000000</td>\n",
              "      <td>0.000000</td>\n",
              "      <td>0.000000</td>\n",
              "      <td>0.000000</td>\n",
              "      <td>0.000000</td>\n",
              "      <td>0.000000</td>\n",
              "      <td>0.0</td>\n",
              "      <td>0.00000</td>\n",
              "      <td>0.429327</td>\n",
              "      <td>0.000000</td>\n",
              "      <td>0.000000</td>\n",
              "      <td>0.000000</td>\n",
              "      <td>0.000000</td>\n",
              "      <td>0.056108</td>\n",
              "      <td>0.005256</td>\n",
              "      <td>0.000000</td>\n",
              "      <td>0.00000</td>\n",
              "      <td>0.000000</td>\n",
              "      <td>0.00000</td>\n",
              "      <td>0.019349</td>\n",
              "      <td>0.000000</td>\n",
              "      <td>0.000000</td>\n",
              "      <td>0.000000</td>\n",
              "      <td>0.000000</td>\n",
              "      <td>0.000000</td>\n",
              "      <td>0.0</td>\n",
              "      <td>0.000000</td>\n",
              "      <td>0.0</td>\n",
              "      <td>0.0</td>\n",
              "      <td>0.000000</td>\n",
              "      <td>0.000000</td>\n",
              "      <td>0.007322</td>\n",
              "      <td>0.000106</td>\n",
              "      <td>0.0</td>\n",
              "      <td>0.000000</td>\n",
              "      <td>0.000000</td>\n",
              "      <td>0.000000</td>\n",
              "      <td>0.001308</td>\n",
              "      <td>...</td>\n",
              "      <td>0.000000</td>\n",
              "      <td>0.000000</td>\n",
              "      <td>0.000000</td>\n",
              "      <td>0.0</td>\n",
              "      <td>0.000000</td>\n",
              "      <td>0.000000</td>\n",
              "      <td>0.000000</td>\n",
              "      <td>0.000000</td>\n",
              "      <td>0.000000</td>\n",
              "      <td>0.000000</td>\n",
              "      <td>0.000408</td>\n",
              "      <td>0.000000</td>\n",
              "      <td>0.000000</td>\n",
              "      <td>0.000128</td>\n",
              "      <td>0.0</td>\n",
              "      <td>0.000000</td>\n",
              "      <td>0.000000</td>\n",
              "      <td>0.038816</td>\n",
              "      <td>0.0</td>\n",
              "      <td>0.000000</td>\n",
              "      <td>0.0</td>\n",
              "      <td>0.000000</td>\n",
              "      <td>0.000000</td>\n",
              "      <td>0.000306</td>\n",
              "      <td>0.000000</td>\n",
              "      <td>0.000000</td>\n",
              "      <td>0.0</td>\n",
              "      <td>0.000000</td>\n",
              "      <td>0.000000</td>\n",
              "      <td>0.000000</td>\n",
              "      <td>0.0</td>\n",
              "      <td>0.000000</td>\n",
              "      <td>0.0</td>\n",
              "      <td>0.000000</td>\n",
              "      <td>0.000000</td>\n",
              "      <td>0.004093</td>\n",
              "      <td>0.0</td>\n",
              "      <td>0.000000</td>\n",
              "      <td>0.000000</td>\n",
              "      <td>0.000000</td>\n",
              "    </tr>\n",
              "    <tr>\n",
              "      <th>child_topic_4</th>\n",
              "      <td>0.000000</td>\n",
              "      <td>0.000000</td>\n",
              "      <td>0.000000</td>\n",
              "      <td>0.000000</td>\n",
              "      <td>0.000000</td>\n",
              "      <td>0.003048</td>\n",
              "      <td>0.000000</td>\n",
              "      <td>0.000000</td>\n",
              "      <td>0.0</td>\n",
              "      <td>0.00000</td>\n",
              "      <td>0.000000</td>\n",
              "      <td>0.005777</td>\n",
              "      <td>0.004404</td>\n",
              "      <td>0.000000</td>\n",
              "      <td>0.000000</td>\n",
              "      <td>0.022946</td>\n",
              "      <td>0.076088</td>\n",
              "      <td>0.000000</td>\n",
              "      <td>0.00000</td>\n",
              "      <td>0.033495</td>\n",
              "      <td>0.00000</td>\n",
              "      <td>0.010543</td>\n",
              "      <td>0.000000</td>\n",
              "      <td>0.000000</td>\n",
              "      <td>0.000000</td>\n",
              "      <td>0.000000</td>\n",
              "      <td>0.000000</td>\n",
              "      <td>0.0</td>\n",
              "      <td>0.052317</td>\n",
              "      <td>0.0</td>\n",
              "      <td>0.0</td>\n",
              "      <td>0.052001</td>\n",
              "      <td>0.000000</td>\n",
              "      <td>0.000000</td>\n",
              "      <td>0.000000</td>\n",
              "      <td>0.0</td>\n",
              "      <td>0.000000</td>\n",
              "      <td>0.000000</td>\n",
              "      <td>0.000000</td>\n",
              "      <td>0.615114</td>\n",
              "      <td>...</td>\n",
              "      <td>0.000000</td>\n",
              "      <td>0.000000</td>\n",
              "      <td>0.000000</td>\n",
              "      <td>0.0</td>\n",
              "      <td>0.025542</td>\n",
              "      <td>0.004436</td>\n",
              "      <td>0.001532</td>\n",
              "      <td>0.000000</td>\n",
              "      <td>0.011946</td>\n",
              "      <td>0.001032</td>\n",
              "      <td>0.031119</td>\n",
              "      <td>0.000000</td>\n",
              "      <td>0.177563</td>\n",
              "      <td>0.042746</td>\n",
              "      <td>0.0</td>\n",
              "      <td>0.000000</td>\n",
              "      <td>0.062161</td>\n",
              "      <td>0.001522</td>\n",
              "      <td>0.0</td>\n",
              "      <td>0.000000</td>\n",
              "      <td>0.0</td>\n",
              "      <td>0.264603</td>\n",
              "      <td>0.207561</td>\n",
              "      <td>0.000000</td>\n",
              "      <td>0.000000</td>\n",
              "      <td>0.024908</td>\n",
              "      <td>0.0</td>\n",
              "      <td>0.000000</td>\n",
              "      <td>0.000000</td>\n",
              "      <td>0.000000</td>\n",
              "      <td>0.0</td>\n",
              "      <td>0.000000</td>\n",
              "      <td>0.0</td>\n",
              "      <td>0.000000</td>\n",
              "      <td>0.000000</td>\n",
              "      <td>0.000000</td>\n",
              "      <td>0.0</td>\n",
              "      <td>0.000000</td>\n",
              "      <td>0.000000</td>\n",
              "      <td>0.000913</td>\n",
              "    </tr>\n",
              "  </tbody>\n",
              "</table>\n",
              "<p>5 rows × 1459 columns</p>\n",
              "</div>"
            ],
            "text/plain": [
              "                      0         1         2  ...      1456      1457      1458\n",
              "child_topic_0  0.134406  0.204902  0.045138  ...  0.250976  0.000000  0.154698\n",
              "child_topic_1  0.000327  0.000000  0.000000  ...  0.000000  0.018337  0.071560\n",
              "child_topic_2  0.000000  0.000000  0.000000  ...  0.000000  0.006138  0.000000\n",
              "child_topic_3  0.087949  0.000000  0.000000  ...  0.000000  0.000000  0.000000\n",
              "child_topic_4  0.000000  0.000000  0.000000  ...  0.000000  0.000000  0.000913\n",
              "\n",
              "[5 rows x 1459 columns]"
            ]
          },
          "metadata": {
            "tags": []
          },
          "execution_count": 78
        }
      ]
    },
    {
      "cell_type": "code",
      "metadata": {
        "id": "ntubjMbxHSXh"
      },
      "source": [
        "# theta0.to_csv(gDrivePath+'/data/hier_theta_0.csv')\n",
        "# theta1.to_csv(gDrivePath+'/data/hier_theta_1.csv')\n",
        "# psi = level1.get_psi()\n",
        "# psi.to_csv(gDrivePath+'/data/hier_psi_1.csv')"
      ],
      "execution_count": null,
      "outputs": []
    },
    {
      "cell_type": "code",
      "metadata": {
        "id": "cu5miS8afnV4",
        "colab": {
          "base_uri": "https://localhost:8080/"
        },
        "outputId": "68858299-13f1-48f1-d7ae-d6b1d26490c8"
      },
      "source": [
        "# with open(gDrivePath+'/data/phi1.batch', 'w') as f:\n",
        "#     f.write('phi1.batch')"
      ],
      "execution_count": null,
      "outputs": [
        {
          "output_type": "execute_result",
          "data": {
            "text/plain": [
              "3143"
            ]
          },
          "metadata": {
            "tags": []
          },
          "execution_count": 60
        }
      ]
    },
    {
      "cell_type": "markdown",
      "metadata": {
        "id": "vn6MfCKsHZ0m"
      },
      "source": [
        "# Авторы"
      ]
    },
    {
      "cell_type": "code",
      "metadata": {
        "id": "Hqou8SE0VHDk"
      },
      "source": [
        "def normalize_geo(geo):\n",
        "  geo = re.sub(r'[%s]' % re.escape(r\"\"\"!\"#$%&'()*+,-./:;<=>?@[\\]^_«»“”’*…/_.\\\\`{|}~\"\"\"), '', geo).strip()\n",
        "  words = geo.split()\n",
        "  if len(words) == 0:\n",
        "    return \"\"\n",
        "  if words[0] == \"Institute\":\n",
        "    return \" \".join(words[:3])\n",
        "  elif words[0] == \"et\" or words[0] == \"at\":\n",
        "    return \"\"\n",
        "  else:\n",
        "    return \" \".join(words[:2])"
      ],
      "execution_count": null,
      "outputs": []
    },
    {
      "cell_type": "code",
      "metadata": {
        "id": "QZxdFaEz28oF"
      },
      "source": [
        "def create_graph(frame):\n",
        "    G = nx.Graph()\n",
        "    for i, row in frame.iterrows():\n",
        "        authors = list(row['updated_geo'].items())\n",
        "        if len(authors) == 1:\n",
        "            try:\n",
        "              geo = normalize_geo(authors[0][1])\n",
        "            except AttributeError:\n",
        "              geo = ''\n",
        "            G.add_node(authors[0][0], geo = geo)\n",
        "        else:\n",
        "            for auth1, auth2 in combinations(authors, 2):\n",
        "                try:\n",
        "                    geo1 = normalize_geo(auth1[1])\n",
        "                except AttributeError:\n",
        "                    geo1 = ''\n",
        "                try:\n",
        "                    geo2 = normalize_geo(auth2[1])\n",
        "                except AttributeError:\n",
        "                    geo2 = ''\n",
        "                    \n",
        "                G.add_node(auth1[0], geo=geo1)\n",
        "                G.add_node(auth2[0], geo=geo2)\n",
        "                G.add_edge(auth1[0], auth2[0])\n",
        "    return G"
      ],
      "execution_count": null,
      "outputs": []
    },
    {
      "cell_type": "code",
      "metadata": {
        "id": "vjCGg_PjfKBY"
      },
      "source": [
        "paper_to_authors = df.geo_full.apply(lambda geos: list(geos.keys())).to_dict()\n",
        "unique_authors = []\n",
        "for authors in df.geo_full.apply(lambda geos: geos.keys()).tolist():\n",
        "  unique_authors += authors\n",
        "unique_authors = list(set(unique_authors))\n",
        "author_to_papers = dict.fromkeys(unique_authors)"
      ],
      "execution_count": null,
      "outputs": []
    },
    {
      "cell_type": "code",
      "metadata": {
        "id": "RPDPdlg3ubi_"
      },
      "source": [
        "for paper in F.columns:\n",
        "  for author in paper_to_authors[int(paper)]:\n",
        "    if author_to_papers[author] is None:\n",
        "      author_to_papers[author] = [F[paper].tolist()]\n",
        "    else:\n",
        "      author_to_papers[author].append(F[paper].tolist())\n",
        "for author in author_to_papers.keys():\n",
        "  author_to_papers[author] = np.array(author_to_papers[author])"
      ],
      "execution_count": null,
      "outputs": []
    },
    {
      "cell_type": "code",
      "metadata": {
        "id": "hBkNozWMfIar"
      },
      "source": [
        "author_to_vec = dict()\n",
        "for author in author_to_papers.keys():\n",
        "  author_to_vec[author] = np.mean(author_to_papers[author], axis = 0)"
      ],
      "execution_count": null,
      "outputs": []
    },
    {
      "cell_type": "code",
      "metadata": {
        "id": "bVrMEwBm16RJ"
      },
      "source": [
        "def S(u_vec, v_vec):\n",
        "  return 1 / np.exp(spatial.distance.cosine(u_vec, v_vec))"
      ],
      "execution_count": null,
      "outputs": []
    },
    {
      "cell_type": "code",
      "metadata": {
        "id": "hU5kso0l82K0"
      },
      "source": [
        "def SIM(u_name, v_name, G, F):\n",
        "  s = S(author_to_vec[u_name], author_to_vec[v_name])\n",
        "  neighbors = nx.common_neighbors(G, u_name, v_name)\n",
        "  norm = 0\n",
        "  sum = 0\n",
        "  for neighbor in neighbors:\n",
        "    norm += 1\n",
        "    uz_papers = np.array([F[str(paper)] for paper in paper_to_authors.keys()\n",
        "                    if neighbor in paper_to_authors[paper]\n",
        "                    and u_name in paper_to_authors[paper]])\n",
        "    vz_papers = np.array([F[str(paper)] for paper in paper_to_authors.keys()\n",
        "                    if neighbor in paper_to_authors[paper]\n",
        "                    and v_name in paper_to_authors[paper]])\n",
        "    x_uz = np.mean(uz_papers, axis=0)\n",
        "    x_vz = np.mean(vz_papers, axis=0)\n",
        "    sum += S(x_uz, x_vz)\n",
        "  if sum == 0:\n",
        "    return s\n",
        "  else:\n",
        "    return s / norm * sum"
      ],
      "execution_count": null,
      "outputs": []
    },
    {
      "cell_type": "code",
      "metadata": {
        "id": "bpEeSqW4JX5I"
      },
      "source": [
        "def add_sim(G, F):\n",
        "  for (u, v) in G.edges():\n",
        "    G.add_edge(u, v, sim = SIM(u, v, G, F))\n",
        "  return G"
      ],
      "execution_count": null,
      "outputs": []
    },
    {
      "cell_type": "code",
      "metadata": {
        "colab": {
          "base_uri": "https://localhost:8080/"
        },
        "id": "P2lSBFZlc98X",
        "outputId": "f46579c6-f640-4b2f-9165-bfc4ea1c1933"
      },
      "source": [
        "df.updated_geo.head()"
      ],
      "execution_count": null,
      "outputs": [
        {
          "output_type": "execute_result",
          "data": {
            "text/plain": [
              "0    {'d.g. nerodenko': 'Tyumen State Oil and Gas U...\n",
              "1            {'n.n. ivantsov': 'TNNC LLC, RF, Tyumen'}\n",
              "2    {'i.v. goncharov': 'TomskNIPIneft JSC, RF, Tom...\n",
              "3    {'v.yu. ovechkina': 'Paradigm, RF, Moscow', 't...\n",
              "4    {'d.v. efimov': 'BashNIPIneft LLC, RF, Ufa', '...\n",
              "Name: updated_geo, dtype: object"
            ]
          },
          "metadata": {
            "tags": []
          },
          "execution_count": 21
        }
      ]
    },
    {
      "cell_type": "code",
      "metadata": {
        "id": "nEgfZ7676xSs"
      },
      "source": [
        "with open(gDrivePath+'a2t.pickle', 'wb') as f:\n",
        "  pickle.dump(dict([(k, np.argmax(v)) for (k, v) in author_to_vec.items()]), f)"
      ],
      "execution_count": null,
      "outputs": []
    },
    {
      "cell_type": "markdown",
      "metadata": {
        "id": "siYLq81LnUGM"
      },
      "source": [
        "# Train test split"
      ]
    },
    {
      "cell_type": "code",
      "metadata": {
        "id": "EWfzTgGoq9rQ"
      },
      "source": [
        "def get_geos_encode(df):\n",
        "  updated_geos = df.updated_geo\n",
        "  unique_geos = []\n",
        "  for geos in updated_geos:\n",
        "    for geo in geos.items():\n",
        "      unique_geos.append(normalize_geo(geo[1]))\n",
        "  unique_geos = list(set(unique_geos))\n",
        "  i = 0\n",
        "  geos_encode = {}\n",
        "  for geo in unique_geos:\n",
        "    geos_encode[geo] = i\n",
        "    i += 1\n",
        "  return geos_encode"
      ],
      "execution_count": null,
      "outputs": []
    },
    {
      "cell_type": "code",
      "metadata": {
        "id": "PU9gyPPWr_qU"
      },
      "source": [
        "G_train = create_graph(df[(df.year >= 2012) & (df.year < 2016)])\n",
        "G_val = create_graph(df[df.year == 2016])\n",
        "G_test = create_graph(df[df.year == 2017])\n",
        "common_authors_val = set(G_train.nodes).intersection(set(G_val.nodes))\n",
        "common_authors_test = set(G_train.nodes).intersection(set(G_test.nodes))"
      ],
      "execution_count": null,
      "outputs": []
    },
    {
      "cell_type": "code",
      "metadata": {
        "id": "U8IqQnN-pD29"
      },
      "source": [
        "geos_encode = get_geos_encode(df)\n",
        "\n",
        "def get_data(df, F, geos_encode):\n",
        "  data = []\n",
        "  G = add_sim(create_graph(df), F)\n",
        "  for u, v in combinations(G.nodes(), 2):\n",
        "    if G.has_edge(u, v):\n",
        "      data.append([u, v, geos_encode[G.nodes[u]['geo']], geos_encode[G.nodes[v]['geo']], G[u][v]['sim'], 1])\n",
        "    else:\n",
        "      data.append([u, v, geos_encode[G.nodes[u]['geo']], geos_encode[G.nodes[v]['geo']], SIM(u, v, G, F), 0])\n",
        "  return pd.DataFrame(data, columns=['author_1', 'author_2', 'author_1_a', 'author_2_a',  'sim', 'label'])\n",
        "\n",
        "train_data = get_data(df[df.year < 2016], F, geos_encode)\n",
        "val_data = get_data(df[df.year == 2016], F, geos_encode)\n",
        "test_data = get_data(df[df.year == 2017], F, geos_encode)"
      ],
      "execution_count": null,
      "outputs": []
    },
    {
      "cell_type": "code",
      "metadata": {
        "id": "wBVePWssoxlS"
      },
      "source": [
        "def get_data_without_aff(df, F):\n",
        "  data = []\n",
        "  G = add_sim(create_graph(df), F)\n",
        "  for u, v in combinations(G.nodes(), 2):\n",
        "    if G.has_edge(u, v):\n",
        "      data.append([u, v, G.nodes[u]['geo']==G.nodes[v]['geo'], G[u][v]['sim'], 1])\n",
        "    else:\n",
        "      data.append([u, v, G.nodes[u]['geo']==G.nodes[v]['geo'], SIM(u, v, G, F), 0])\n",
        "  return pd.DataFrame(data, columns=['author_1', 'author_2', 'same_a',  'sim', 'label'])"
      ],
      "execution_count": null,
      "outputs": []
    },
    {
      "cell_type": "code",
      "metadata": {
        "id": "p5ZjVb7zpkqd"
      },
      "source": [
        "def get_data_with_n_count(df, F):\n",
        "  data = []\n",
        "  G = add_sim(create_graph(df), F)\n",
        "  for u, v in combinations(G.nodes(), 2):\n",
        "    if G.has_edge(u, v):\n",
        "      data.append([u, v, int(G.nodes[u]['geo']==G.nodes[v]['geo']), len(list(nx.common_neighbors(G, u, v))), G[u][v]['sim'], 1])\n",
        "    else:\n",
        "      data.append([u, v, int(G.nodes[u]['geo']==G.nodes[v]['geo']), len(list(nx.common_neighbors(G, u, v))), SIM(u, v, G, F), 0])\n",
        "  return pd.DataFrame(data, columns=['author_1', 'author_2', 'same_a', 'cn',  'sim', 'label'])"
      ],
      "execution_count": null,
      "outputs": []
    },
    {
      "cell_type": "code",
      "metadata": {
        "colab": {
          "base_uri": "https://localhost:8080/",
          "height": 202
        },
        "id": "TmgN479Zqmyd",
        "outputId": "666a557e-5172-43ba-8a7f-1c506a6bd1ef"
      },
      "source": [
        "train_data = get_data_with_n_count(df[df.year < 2016], F)\n",
        "val_data = get_data_with_n_count(df[df.year == 2016], F)\n",
        "test_data = get_data_with_n_count(df[df.year == 2017], F)"
      ],
      "execution_count": null,
      "outputs": [
        {
          "output_type": "execute_result",
          "data": {
            "text/html": [
              "<div>\n",
              "<style scoped>\n",
              "    .dataframe tbody tr th:only-of-type {\n",
              "        vertical-align: middle;\n",
              "    }\n",
              "\n",
              "    .dataframe tbody tr th {\n",
              "        vertical-align: top;\n",
              "    }\n",
              "\n",
              "    .dataframe thead th {\n",
              "        text-align: right;\n",
              "    }\n",
              "</style>\n",
              "<table border=\"1\" class=\"dataframe\">\n",
              "  <thead>\n",
              "    <tr style=\"text-align: right;\">\n",
              "      <th></th>\n",
              "      <th>author_1</th>\n",
              "      <th>author_2</th>\n",
              "      <th>same_a</th>\n",
              "      <th>cn</th>\n",
              "      <th>sim</th>\n",
              "      <th>label</th>\n",
              "    </tr>\n",
              "  </thead>\n",
              "  <tbody>\n",
              "    <tr>\n",
              "      <th>0</th>\n",
              "      <td>d.g. nerodenko</td>\n",
              "      <td>k.v. syzrantseva</td>\n",
              "      <td>1</td>\n",
              "      <td>0</td>\n",
              "      <td>0.721159</td>\n",
              "      <td>1</td>\n",
              "    </tr>\n",
              "    <tr>\n",
              "      <th>1</th>\n",
              "      <td>d.g. nerodenko</td>\n",
              "      <td>n.n. ivantsov</td>\n",
              "      <td>0</td>\n",
              "      <td>0</td>\n",
              "      <td>0.668037</td>\n",
              "      <td>0</td>\n",
              "    </tr>\n",
              "    <tr>\n",
              "      <th>2</th>\n",
              "      <td>d.g. nerodenko</td>\n",
              "      <td>i.v. goncharov</td>\n",
              "      <td>0</td>\n",
              "      <td>0</td>\n",
              "      <td>0.385511</td>\n",
              "      <td>0</td>\n",
              "    </tr>\n",
              "    <tr>\n",
              "      <th>3</th>\n",
              "      <td>d.g. nerodenko</td>\n",
              "      <td>n.v. oblasov</td>\n",
              "      <td>0</td>\n",
              "      <td>0</td>\n",
              "      <td>0.380196</td>\n",
              "      <td>0</td>\n",
              "    </tr>\n",
              "    <tr>\n",
              "      <th>4</th>\n",
              "      <td>d.g. nerodenko</td>\n",
              "      <td>a.v. smetanin</td>\n",
              "      <td>0</td>\n",
              "      <td>0</td>\n",
              "      <td>0.455621</td>\n",
              "      <td>0</td>\n",
              "    </tr>\n",
              "  </tbody>\n",
              "</table>\n",
              "</div>"
            ],
            "text/plain": [
              "         author_1          author_2  same_a  cn       sim  label\n",
              "0  d.g. nerodenko  k.v. syzrantseva       1   0  0.721159      1\n",
              "1  d.g. nerodenko     n.n. ivantsov       0   0  0.668037      0\n",
              "2  d.g. nerodenko    i.v. goncharov       0   0  0.385511      0\n",
              "3  d.g. nerodenko      n.v. oblasov       0   0  0.380196      0\n",
              "4  d.g. nerodenko     a.v. smetanin       0   0  0.455621      0"
            ]
          },
          "metadata": {
            "tags": []
          },
          "execution_count": 23
        }
      ]
    },
    {
      "cell_type": "code",
      "metadata": {
        "id": "1zZCP78Er7E8"
      },
      "source": [
        "train_data.to_csv(gDrivePath + 'train_with_n.csv')\n",
        "val_data.to_csv(gDrivePath + 'val_with_n.csv')\n",
        "test_data.to_csv(gDrivePath + 'test_with_n.csv')"
      ],
      "execution_count": null,
      "outputs": []
    },
    {
      "cell_type": "code",
      "metadata": {
        "colab": {
          "base_uri": "https://localhost:8080/"
        },
        "id": "BowrKf7PpHhQ",
        "outputId": "b2ad7ccc-a16c-41eb-cc1f-db669ed3cf5a"
      },
      "source": [
        "#train_data_a = get_data_without_aff(df[df.year < 2016], F)\n",
        "#val_data_a = get_data_without_aff(df[df.year == 2016], F)\n",
        "#test_data_a = get_data_without_aff(df[df.year == 2017], F)\n",
        "#test_data_a = test_data_a[test_data_a.author_1.isin(common_authors_test) & test_data_a.author_2.isin(common_authors_test)]\n",
        "#val_data_a = val_data_a[val_data_a.author_1.isin(common_authors_val) & val_data_a.author_2.isin(common_authors_val)]\n",
        "train_data = pd.read_csv(gDrivePath + 'train_a.csv')\n",
        "test_data = pd.read_csv(gDrivePath + 'test_a.csv')\n",
        "val_data = pd.read_csv(gDrivePath + 'val_a.csv')\n",
        "print(test_data.shape, val_data.shape, train_data.shape)"
      ],
      "execution_count": null,
      "outputs": [
        {
          "output_type": "stream",
          "text": [
            "(56280, 5) (66066, 5) (2355535, 5)\n"
          ],
          "name": "stdout"
        }
      ]
    },
    {
      "cell_type": "code",
      "metadata": {
        "colab": {
          "base_uri": "https://localhost:8080/",
          "height": 623
        },
        "id": "-ogjVRnfv_LL",
        "outputId": "040dc93d-d1de-4084-877b-a2e86d8604d1"
      },
      "source": [
        "import seaborn as sns\n",
        "train_data_a['dummy'] = 0\n",
        "plt.figure(figsize=(14, 10))\n",
        "plt.xticks(rotation = 90)\n",
        "sns.violinplot(y=\"sim\", x=\"same_a\", hue=\"label\", data=train_data_a, palette=\"pastel\", split=True)"
      ],
      "execution_count": null,
      "outputs": [
        {
          "output_type": "execute_result",
          "data": {
            "text/plain": [
              "<matplotlib.axes._subplots.AxesSubplot at 0x7fbcaa0cbbd0>"
            ]
          },
          "metadata": {
            "tags": []
          },
          "execution_count": 76
        },
        {
          "output_type": "display_data",
          "data": {
            "image/png": "[encoded data removed]",
            "text/plain": [
              "<Figure size 1008x720 with 1 Axes>"
            ]
          },
          "metadata": {
            "tags": []
          }
        }
      ]
    },
    {
      "cell_type": "code",
      "metadata": {
        "id": "2kmk-dM1cVay"
      },
      "source": [
        "# train_data_a.to_csv(gDrivePath + 'train_a.csv', index=False)\n",
        "# test_data_a.to_csv(gDrivePath + 'test_a.csv', index=False)\n",
        "# val_data_a.to_csv(gDrivePath + 'val_a.csv', index=False)"
      ],
      "execution_count": null,
      "outputs": []
    },
    {
      "cell_type": "code",
      "metadata": {
        "colab": {
          "base_uri": "https://localhost:8080/"
        },
        "id": "QSo6GeXeKTS_",
        "outputId": "159d8936-cba1-4ba0-aae8-aed25521e5a1"
      },
      "source": [
        "test_data = test_data[test_data.author_1.isin(common_authors_test) & test_data.author_2.isin(common_authors_test)]\n",
        "val_data = val_data[val_data.author_1.isin(common_authors_val) & val_data.author_2.isin(common_authors_val)]\n",
        "print(test_data.shape, val_data.shape, train_data.shape)"
      ],
      "execution_count": null,
      "outputs": [
        {
          "output_type": "stream",
          "text": [
            "(56280, 5) (66066, 5) (2355535, 5)\n"
          ],
          "name": "stdout"
        }
      ]
    },
    {
      "cell_type": "code",
      "metadata": {
        "id": "_HSiRmfeV8AH"
      },
      "source": [
        "train_data.to_csv(gDrivePath + 'train.csv', index=False)\n",
        "test_data.to_csv(gDrivePath + 'test.csv', index=False)\n",
        "val_data.to_csv(gDrivePath + 'val.csv', index=False)"
      ],
      "execution_count": null,
      "outputs": []
    },
    {
      "cell_type": "code",
      "metadata": {
        "id": "skcydchUuqOh"
      },
      "source": [
        "train_data = pd.read_csv(gDrivePath + 'train_a.csv')\n",
        "test_data = pd.read_csv(gDrivePath + 'test_a.csv')\n",
        "val_data = pd.read_csv(gDrivePath + 'val_a.csv')"
      ],
      "execution_count": null,
      "outputs": []
    },
    {
      "cell_type": "code",
      "metadata": {
        "colab": {
          "base_uri": "https://localhost:8080/"
        },
        "id": "OoeyZtYjfJw6",
        "outputId": "acff9c72-025d-4cff-c678-b4f77638ea29"
      },
      "source": [
        "test_data.shape"
      ],
      "execution_count": null,
      "outputs": [
        {
          "output_type": "execute_result",
          "data": {
            "text/plain": [
              "(56280, 5)"
            ]
          },
          "metadata": {
            "tags": []
          },
          "execution_count": 7
        }
      ]
    },
    {
      "cell_type": "markdown",
      "metadata": {
        "id": "xKX4qcbsDNie"
      },
      "source": [
        "# Treshold method"
      ]
    },
    {
      "cell_type": "code",
      "metadata": {
        "id": "ay2fKU7TK2Ti"
      },
      "source": [
        "def calculateSim(G, F):\n",
        "  n = G.number_of_nodes()\n",
        "  d = sparse.lil_matrix((n, n), dtype=float)\n",
        "  for i1, n1 in enumerate(G.nodes):\n",
        "        for i2, n2 in enumerate(G.nodes):\n",
        "            if n1 != n2:\n",
        "                d[i2,i1] = SIM(n1, n2, G, F)\n",
        "  return d"
      ],
      "execution_count": null,
      "outputs": []
    },
    {
      "cell_type": "code",
      "metadata": {
        "id": "cbhlEedAhCFG"
      },
      "source": [
        "sims = calculateSim(G_train, F)\n",
        "df_train_sim = pd.DataFrame(sims.todense(), columns=G_train.nodes, index=G_train.nodes)\n",
        "df_train_sim_ca = df_train_sim.loc[common_authors_val, common_authors_val]"
      ],
      "execution_count": null,
      "outputs": []
    },
    {
      "cell_type": "code",
      "metadata": {
        "id": "XH6VUd8DiYXL"
      },
      "source": [
        "#матрица смежности для тестового набора\n",
        "test_adj = nx.adjacency_matrix(G_val).todense()\n",
        "# то же, только с именами\n",
        "df_test_adj = pd.DataFrame(test_adj, columns=G_val.nodes, index=G_val.nodes)\n",
        "# то же, только для авторов из обоих наборов (train - test)\n",
        "df_test_adj_ca = df_test_adj.loc[common_authors_val, common_authors_val]"
      ],
      "execution_count": null,
      "outputs": []
    },
    {
      "cell_type": "code",
      "metadata": {
        "id": "A6SvBOXXLxxy"
      },
      "source": [
        "#матрица смежности для тестового набора\n",
        "test_adj = nx.adjacency_matrix(G_test).todense()\n",
        "# то же, только с именами\n",
        "df_test_adj = pd.DataFrame(test_adj, columns=G_test.nodes, index=G_test.nodes)\n",
        "# то же, только для авторов из обоих наборов (train - test)\n",
        "df_test_adj_ca = df_test_adj.loc[common_authors_test, common_authors_test]\n",
        "df_train_sim_ca = df_train_sim.loc[common_authors_test, common_authors_test]"
      ],
      "execution_count": null,
      "outputs": []
    },
    {
      "cell_type": "code",
      "metadata": {
        "colab": {
          "base_uri": "https://localhost:8080/"
        },
        "id": "t624G4zSL4dS",
        "outputId": "9083ad4a-13b2-4e69-f9de-b1f550ba32cd"
      },
      "source": [
        "#Сколько должно быть общих соседей чтобы сказать что между вершинами будет связь?\n",
        "threshold = 0.791\n",
        "#Матрица смежности для связей которые могут быть в будущем\n",
        "mask = (df_train_sim_ca > threshold).astype(int)\n",
        "#сколько ребер предсказано верно\n",
        "\n",
        "#точность предсказания связей графа\n",
        "precision = precision_score(df_test_adj_ca.values.flatten(), mask.values.flatten())\n",
        "recall = recall_score(df_test_adj_ca.values.flatten(), mask.values.flatten())\n",
        "f3 = 10 * recall * precision / (9 * precision + recall)\n",
        "print('Precision ' + str(precision))\n",
        "print('Recall ' + str(recall))\n",
        "print('F3 ' + str(f3))"
      ],
      "execution_count": null,
      "outputs": [
        {
          "output_type": "stream",
          "text": [
            "Precision 0.13811007268951195\n",
            "Recall 0.5076335877862596\n",
            "F3 0.40048178259560374\n"
          ],
          "name": "stdout"
        }
      ]
    },
    {
      "cell_type": "markdown",
      "metadata": {
        "id": "ZCC_i0pma205"
      },
      "source": [
        "# TM + affiliations"
      ]
    },
    {
      "cell_type": "code",
      "metadata": {
        "id": "Nw6cuYHIIp5h"
      },
      "source": [
        "X_train = train_data.drop('author_1', axis=1).drop('author_2', axis=1).drop('label', axis=1)\n",
        "y_train = train_data['label']\n",
        "X_test = test_data.drop('author_1', axis=1).drop('author_2', axis=1).drop('label', axis=1)\n",
        "y_test = test_data['label']\n",
        "X_val = val_data.drop('author_1', axis=1).drop('author_2', axis=1).drop('label', axis=1)\n",
        "y_val = val_data['label']\n",
        "cat_feat = ['same_a']\n",
        "test = cgb.Pool(data=X_test, label=y_test, cat_features=cat_feat)\n",
        "val = cgb.Pool(data=X_val, label=y_val, cat_features=cat_feat)\n",
        "train = cgb.Pool(data=X_train, label=y_train, cat_features=cat_feat)"
      ],
      "execution_count": null,
      "outputs": []
    },
    {
      "cell_type": "code",
      "metadata": {
        "colab": {
          "base_uri": "https://localhost:8080/",
          "height": 433
        },
        "id": "86nrdpE7bRWD",
        "outputId": "ed7d3bbb-00fb-4f83-f95f-85380c38db5b"
      },
      "source": [
        "def score(params):\n",
        "  model = cgb.CatBoostClassifier(**params, task_type=\"GPU\", logging_level='Silent')\n",
        "  model.fit(train, eval_set=val)\n",
        "  metrics = model.eval_metrics(val, ['F1:use_weights=false'])\n",
        "\n",
        "  return {'loss': -metrics['F1:use_weights=false'][-1], 'status': STATUS_OK}\n",
        "\n",
        "space = {\n",
        "    'loss_function': 'Logloss',\n",
        "    'eval_metric': 'F1:use_weights=false',\n",
        "    'iterations': hp.choice('iterations', np.arange(50, 500, 50)),\n",
        "    'learning_rate': hp.uniform('learning_rate', 0.1, 1),\n",
        "    'random_seed': 42,\n",
        "    'l2_leaf_reg': hp.uniform('l2_leaf_reg', 0, 20),\n",
        "    'depth': hp.choice('depth', np.arange(3, 16, 1)),\n",
        "    'min_data_in_leaf': hp.uniform('min_data_in_leaf', 0, 10),\n",
        "    #'max_leaves': hp.choice('max_leaves', np.arange(20, 64, 1)),\n",
        "    'auto_class_weights': hp.choice('auto_class_weights', ['Balanced', 'SqrtBalanced']),\n",
        "          }\n",
        "\n",
        "def optimize(trials, space):\n",
        "  best = fmin(score, space, algo = tpe.suggest, max_evals = 400)\n",
        "  return best\n",
        "\n",
        "trials = Trials()\n",
        "best_params = optimize(trials, space)"
      ],
      "execution_count": null,
      "outputs": [
        {
          "output_type": "stream",
          "text": [
            " 12%|█▏        | 47/400 [14:36<1:49:44, 18.65s/it, best loss: -0.4305210918114144]\n"
          ],
          "name": "stdout"
        },
        {
          "output_type": "error",
          "ename": "KeyboardInterrupt",
          "evalue": "ignored",
          "traceback": [
            "\u001b[0;31m---------------------------------------------------------------------------\u001b[0m",
            "\u001b[0;31mKeyboardInterrupt\u001b[0m                         Traceback (most recent call last)",
            "\u001b[0;32m<ipython-input-62-a7b2f5f31741>\u001b[0m in \u001b[0;36m<module>\u001b[0;34m()\u001b[0m\n\u001b[1;32m     24\u001b[0m \u001b[0;34m\u001b[0m\u001b[0m\n\u001b[1;32m     25\u001b[0m \u001b[0mtrials\u001b[0m \u001b[0;34m=\u001b[0m \u001b[0mTrials\u001b[0m\u001b[0;34m(\u001b[0m\u001b[0;34m)\u001b[0m\u001b[0;34m\u001b[0m\u001b[0;34m\u001b[0m\u001b[0m\n\u001b[0;32m---> 26\u001b[0;31m \u001b[0mbest_params\u001b[0m \u001b[0;34m=\u001b[0m \u001b[0moptimize\u001b[0m\u001b[0;34m(\u001b[0m\u001b[0mtrials\u001b[0m\u001b[0;34m,\u001b[0m \u001b[0mspace\u001b[0m\u001b[0;34m)\u001b[0m\u001b[0;34m\u001b[0m\u001b[0;34m\u001b[0m\u001b[0m\n\u001b[0m",
            "\u001b[0;32m<ipython-input-62-a7b2f5f31741>\u001b[0m in \u001b[0;36moptimize\u001b[0;34m(trials, space)\u001b[0m\n\u001b[1;32m     20\u001b[0m \u001b[0;34m\u001b[0m\u001b[0m\n\u001b[1;32m     21\u001b[0m \u001b[0;32mdef\u001b[0m \u001b[0moptimize\u001b[0m\u001b[0;34m(\u001b[0m\u001b[0mtrials\u001b[0m\u001b[0;34m,\u001b[0m \u001b[0mspace\u001b[0m\u001b[0;34m)\u001b[0m\u001b[0;34m:\u001b[0m\u001b[0;34m\u001b[0m\u001b[0;34m\u001b[0m\u001b[0m\n\u001b[0;32m---> 22\u001b[0;31m   \u001b[0mbest\u001b[0m \u001b[0;34m=\u001b[0m \u001b[0mfmin\u001b[0m\u001b[0;34m(\u001b[0m\u001b[0mscore\u001b[0m\u001b[0;34m,\u001b[0m \u001b[0mspace\u001b[0m\u001b[0;34m,\u001b[0m \u001b[0malgo\u001b[0m \u001b[0;34m=\u001b[0m \u001b[0mtpe\u001b[0m\u001b[0;34m.\u001b[0m\u001b[0msuggest\u001b[0m\u001b[0;34m,\u001b[0m \u001b[0mmax_evals\u001b[0m \u001b[0;34m=\u001b[0m \u001b[0;36m400\u001b[0m\u001b[0;34m)\u001b[0m\u001b[0;34m\u001b[0m\u001b[0;34m\u001b[0m\u001b[0m\n\u001b[0m\u001b[1;32m     23\u001b[0m   \u001b[0;32mreturn\u001b[0m \u001b[0mbest\u001b[0m\u001b[0;34m\u001b[0m\u001b[0;34m\u001b[0m\u001b[0m\n\u001b[1;32m     24\u001b[0m \u001b[0;34m\u001b[0m\u001b[0m\n",
            "\u001b[0;32m/usr/local/lib/python3.7/dist-packages/hyperopt/fmin.py\u001b[0m in \u001b[0;36mfmin\u001b[0;34m(fn, space, algo, max_evals, trials, rstate, allow_trials_fmin, pass_expr_memo_ctrl, catch_eval_exceptions, verbose, return_argmin, points_to_evaluate, max_queue_len, show_progressbar)\u001b[0m\n\u001b[1;32m    405\u001b[0m                     show_progressbar=show_progressbar)\n\u001b[1;32m    406\u001b[0m     \u001b[0mrval\u001b[0m\u001b[0;34m.\u001b[0m\u001b[0mcatch_eval_exceptions\u001b[0m \u001b[0;34m=\u001b[0m \u001b[0mcatch_eval_exceptions\u001b[0m\u001b[0;34m\u001b[0m\u001b[0;34m\u001b[0m\u001b[0m\n\u001b[0;32m--> 407\u001b[0;31m     \u001b[0mrval\u001b[0m\u001b[0;34m.\u001b[0m\u001b[0mexhaust\u001b[0m\u001b[0;34m(\u001b[0m\u001b[0;34m)\u001b[0m\u001b[0;34m\u001b[0m\u001b[0;34m\u001b[0m\u001b[0m\n\u001b[0m\u001b[1;32m    408\u001b[0m     \u001b[0;32mif\u001b[0m \u001b[0mreturn_argmin\u001b[0m\u001b[0;34m:\u001b[0m\u001b[0;34m\u001b[0m\u001b[0;34m\u001b[0m\u001b[0m\n\u001b[1;32m    409\u001b[0m         \u001b[0;32mreturn\u001b[0m \u001b[0mtrials\u001b[0m\u001b[0;34m.\u001b[0m\u001b[0margmin\u001b[0m\u001b[0;34m\u001b[0m\u001b[0;34m\u001b[0m\u001b[0m\n",
            "\u001b[0;32m/usr/local/lib/python3.7/dist-packages/hyperopt/fmin.py\u001b[0m in \u001b[0;36mexhaust\u001b[0;34m(self)\u001b[0m\n\u001b[1;32m    260\u001b[0m     \u001b[0;32mdef\u001b[0m \u001b[0mexhaust\u001b[0m\u001b[0;34m(\u001b[0m\u001b[0mself\u001b[0m\u001b[0;34m)\u001b[0m\u001b[0;34m:\u001b[0m\u001b[0;34m\u001b[0m\u001b[0;34m\u001b[0m\u001b[0m\n\u001b[1;32m    261\u001b[0m         \u001b[0mn_done\u001b[0m \u001b[0;34m=\u001b[0m \u001b[0mlen\u001b[0m\u001b[0;34m(\u001b[0m\u001b[0mself\u001b[0m\u001b[0;34m.\u001b[0m\u001b[0mtrials\u001b[0m\u001b[0;34m)\u001b[0m\u001b[0;34m\u001b[0m\u001b[0;34m\u001b[0m\u001b[0m\n\u001b[0;32m--> 262\u001b[0;31m         \u001b[0mself\u001b[0m\u001b[0;34m.\u001b[0m\u001b[0mrun\u001b[0m\u001b[0;34m(\u001b[0m\u001b[0mself\u001b[0m\u001b[0;34m.\u001b[0m\u001b[0mmax_evals\u001b[0m \u001b[0;34m-\u001b[0m \u001b[0mn_done\u001b[0m\u001b[0;34m,\u001b[0m \u001b[0mblock_until_done\u001b[0m\u001b[0;34m=\u001b[0m\u001b[0mself\u001b[0m\u001b[0;34m.\u001b[0m\u001b[0masynchronous\u001b[0m\u001b[0;34m)\u001b[0m\u001b[0;34m\u001b[0m\u001b[0;34m\u001b[0m\u001b[0m\n\u001b[0m\u001b[1;32m    263\u001b[0m         \u001b[0mself\u001b[0m\u001b[0;34m.\u001b[0m\u001b[0mtrials\u001b[0m\u001b[0;34m.\u001b[0m\u001b[0mrefresh\u001b[0m\u001b[0;34m(\u001b[0m\u001b[0;34m)\u001b[0m\u001b[0;34m\u001b[0m\u001b[0;34m\u001b[0m\u001b[0m\n\u001b[1;32m    264\u001b[0m         \u001b[0;32mreturn\u001b[0m \u001b[0mself\u001b[0m\u001b[0;34m\u001b[0m\u001b[0;34m\u001b[0m\u001b[0m\n",
            "\u001b[0;32m/usr/local/lib/python3.7/dist-packages/hyperopt/fmin.py\u001b[0m in \u001b[0;36mrun\u001b[0;34m(self, N, block_until_done)\u001b[0m\n\u001b[1;32m    225\u001b[0m                     \u001b[0;32melse\u001b[0m\u001b[0;34m:\u001b[0m\u001b[0;34m\u001b[0m\u001b[0;34m\u001b[0m\u001b[0m\n\u001b[1;32m    226\u001b[0m                         \u001b[0;31m# -- loop over trials and do the jobs directly\u001b[0m\u001b[0;34m\u001b[0m\u001b[0;34m\u001b[0m\u001b[0;34m\u001b[0m\u001b[0m\n\u001b[0;32m--> 227\u001b[0;31m                         \u001b[0mself\u001b[0m\u001b[0;34m.\u001b[0m\u001b[0mserial_evaluate\u001b[0m\u001b[0;34m(\u001b[0m\u001b[0;34m)\u001b[0m\u001b[0;34m\u001b[0m\u001b[0;34m\u001b[0m\u001b[0m\n\u001b[0m\u001b[1;32m    228\u001b[0m \u001b[0;34m\u001b[0m\u001b[0m\n\u001b[1;32m    229\u001b[0m                     \u001b[0;32mtry\u001b[0m\u001b[0;34m:\u001b[0m\u001b[0;34m\u001b[0m\u001b[0;34m\u001b[0m\u001b[0m\n",
            "\u001b[0;32m/usr/local/lib/python3.7/dist-packages/hyperopt/fmin.py\u001b[0m in \u001b[0;36mserial_evaluate\u001b[0;34m(self, N)\u001b[0m\n\u001b[1;32m    139\u001b[0m                 \u001b[0mctrl\u001b[0m \u001b[0;34m=\u001b[0m \u001b[0mbase\u001b[0m\u001b[0;34m.\u001b[0m\u001b[0mCtrl\u001b[0m\u001b[0;34m(\u001b[0m\u001b[0mself\u001b[0m\u001b[0;34m.\u001b[0m\u001b[0mtrials\u001b[0m\u001b[0;34m,\u001b[0m \u001b[0mcurrent_trial\u001b[0m\u001b[0;34m=\u001b[0m\u001b[0mtrial\u001b[0m\u001b[0;34m)\u001b[0m\u001b[0;34m\u001b[0m\u001b[0;34m\u001b[0m\u001b[0m\n\u001b[1;32m    140\u001b[0m                 \u001b[0;32mtry\u001b[0m\u001b[0;34m:\u001b[0m\u001b[0;34m\u001b[0m\u001b[0;34m\u001b[0m\u001b[0m\n\u001b[0;32m--> 141\u001b[0;31m                     \u001b[0mresult\u001b[0m \u001b[0;34m=\u001b[0m \u001b[0mself\u001b[0m\u001b[0;34m.\u001b[0m\u001b[0mdomain\u001b[0m\u001b[0;34m.\u001b[0m\u001b[0mevaluate\u001b[0m\u001b[0;34m(\u001b[0m\u001b[0mspec\u001b[0m\u001b[0;34m,\u001b[0m \u001b[0mctrl\u001b[0m\u001b[0;34m)\u001b[0m\u001b[0;34m\u001b[0m\u001b[0;34m\u001b[0m\u001b[0m\n\u001b[0m\u001b[1;32m    142\u001b[0m                 \u001b[0;32mexcept\u001b[0m \u001b[0mException\u001b[0m \u001b[0;32mas\u001b[0m \u001b[0me\u001b[0m\u001b[0;34m:\u001b[0m\u001b[0;34m\u001b[0m\u001b[0;34m\u001b[0m\u001b[0m\n\u001b[1;32m    143\u001b[0m                     \u001b[0mlogger\u001b[0m\u001b[0;34m.\u001b[0m\u001b[0minfo\u001b[0m\u001b[0;34m(\u001b[0m\u001b[0;34m'job exception: %s'\u001b[0m \u001b[0;34m%\u001b[0m \u001b[0mstr\u001b[0m\u001b[0;34m(\u001b[0m\u001b[0me\u001b[0m\u001b[0;34m)\u001b[0m\u001b[0;34m)\u001b[0m\u001b[0;34m\u001b[0m\u001b[0;34m\u001b[0m\u001b[0m\n",
            "\u001b[0;32m/usr/local/lib/python3.7/dist-packages/hyperopt/base.py\u001b[0m in \u001b[0;36mevaluate\u001b[0;34m(self, config, ctrl, attach_attachments)\u001b[0m\n\u001b[1;32m    842\u001b[0m                 \u001b[0mmemo\u001b[0m\u001b[0;34m=\u001b[0m\u001b[0mmemo\u001b[0m\u001b[0;34m,\u001b[0m\u001b[0;34m\u001b[0m\u001b[0;34m\u001b[0m\u001b[0m\n\u001b[1;32m    843\u001b[0m                 print_node_on_error=self.rec_eval_print_node_on_error)\n\u001b[0;32m--> 844\u001b[0;31m             \u001b[0mrval\u001b[0m \u001b[0;34m=\u001b[0m \u001b[0mself\u001b[0m\u001b[0;34m.\u001b[0m\u001b[0mfn\u001b[0m\u001b[0;34m(\u001b[0m\u001b[0mpyll_rval\u001b[0m\u001b[0;34m)\u001b[0m\u001b[0;34m\u001b[0m\u001b[0;34m\u001b[0m\u001b[0m\n\u001b[0m\u001b[1;32m    845\u001b[0m \u001b[0;34m\u001b[0m\u001b[0m\n\u001b[1;32m    846\u001b[0m         \u001b[0;32mif\u001b[0m \u001b[0misinstance\u001b[0m\u001b[0;34m(\u001b[0m\u001b[0mrval\u001b[0m\u001b[0;34m,\u001b[0m \u001b[0;34m(\u001b[0m\u001b[0mfloat\u001b[0m\u001b[0;34m,\u001b[0m \u001b[0mint\u001b[0m\u001b[0;34m,\u001b[0m \u001b[0mnp\u001b[0m\u001b[0;34m.\u001b[0m\u001b[0mnumber\u001b[0m\u001b[0;34m)\u001b[0m\u001b[0;34m)\u001b[0m\u001b[0;34m:\u001b[0m\u001b[0;34m\u001b[0m\u001b[0;34m\u001b[0m\u001b[0m\n",
            "\u001b[0;32m<ipython-input-62-a7b2f5f31741>\u001b[0m in \u001b[0;36mscore\u001b[0;34m(params)\u001b[0m\n\u001b[1;32m      1\u001b[0m \u001b[0;32mdef\u001b[0m \u001b[0mscore\u001b[0m\u001b[0;34m(\u001b[0m\u001b[0mparams\u001b[0m\u001b[0;34m)\u001b[0m\u001b[0;34m:\u001b[0m\u001b[0;34m\u001b[0m\u001b[0;34m\u001b[0m\u001b[0m\n\u001b[1;32m      2\u001b[0m   \u001b[0mmodel\u001b[0m \u001b[0;34m=\u001b[0m \u001b[0mcgb\u001b[0m\u001b[0;34m.\u001b[0m\u001b[0mCatBoostClassifier\u001b[0m\u001b[0;34m(\u001b[0m\u001b[0;34m**\u001b[0m\u001b[0mparams\u001b[0m\u001b[0;34m,\u001b[0m \u001b[0mtask_type\u001b[0m\u001b[0;34m=\u001b[0m\u001b[0;34m\"GPU\"\u001b[0m\u001b[0;34m,\u001b[0m \u001b[0mlogging_level\u001b[0m\u001b[0;34m=\u001b[0m\u001b[0;34m'Silent'\u001b[0m\u001b[0;34m)\u001b[0m\u001b[0;34m\u001b[0m\u001b[0;34m\u001b[0m\u001b[0m\n\u001b[0;32m----> 3\u001b[0;31m   \u001b[0mmodel\u001b[0m\u001b[0;34m.\u001b[0m\u001b[0mfit\u001b[0m\u001b[0;34m(\u001b[0m\u001b[0mtrain\u001b[0m\u001b[0;34m,\u001b[0m \u001b[0meval_set\u001b[0m\u001b[0;34m=\u001b[0m\u001b[0mval\u001b[0m\u001b[0;34m)\u001b[0m\u001b[0;34m\u001b[0m\u001b[0;34m\u001b[0m\u001b[0m\n\u001b[0m\u001b[1;32m      4\u001b[0m   \u001b[0mmetrics\u001b[0m \u001b[0;34m=\u001b[0m \u001b[0mmodel\u001b[0m\u001b[0;34m.\u001b[0m\u001b[0meval_metrics\u001b[0m\u001b[0;34m(\u001b[0m\u001b[0mval\u001b[0m\u001b[0;34m,\u001b[0m \u001b[0;34m[\u001b[0m\u001b[0;34m'F1:use_weights=false'\u001b[0m\u001b[0;34m]\u001b[0m\u001b[0;34m)\u001b[0m\u001b[0;34m\u001b[0m\u001b[0;34m\u001b[0m\u001b[0m\n\u001b[1;32m      5\u001b[0m \u001b[0;34m\u001b[0m\u001b[0m\n",
            "\u001b[0;32m/usr/local/lib/python3.7/dist-packages/catboost/core.py\u001b[0m in \u001b[0;36mfit\u001b[0;34m(self, X, y, cat_features, text_features, embedding_features, sample_weight, baseline, use_best_model, eval_set, verbose, logging_level, plot, column_description, verbose_eval, metric_period, silent, early_stopping_rounds, save_snapshot, snapshot_file, snapshot_interval, init_model)\u001b[0m\n\u001b[1;32m   4539\u001b[0m         self._fit(X, y, cat_features, text_features, embedding_features, None, sample_weight, None, None, None, None, baseline, use_best_model,\n\u001b[1;32m   4540\u001b[0m                   \u001b[0meval_set\u001b[0m\u001b[0;34m,\u001b[0m \u001b[0mverbose\u001b[0m\u001b[0;34m,\u001b[0m \u001b[0mlogging_level\u001b[0m\u001b[0;34m,\u001b[0m \u001b[0mplot\u001b[0m\u001b[0;34m,\u001b[0m \u001b[0mcolumn_description\u001b[0m\u001b[0;34m,\u001b[0m \u001b[0mverbose_eval\u001b[0m\u001b[0;34m,\u001b[0m \u001b[0mmetric_period\u001b[0m\u001b[0;34m,\u001b[0m\u001b[0;34m\u001b[0m\u001b[0;34m\u001b[0m\u001b[0m\n\u001b[0;32m-> 4541\u001b[0;31m                   silent, early_stopping_rounds, save_snapshot, snapshot_file, snapshot_interval, init_model)\n\u001b[0m\u001b[1;32m   4542\u001b[0m         \u001b[0;32mreturn\u001b[0m \u001b[0mself\u001b[0m\u001b[0;34m\u001b[0m\u001b[0;34m\u001b[0m\u001b[0m\n\u001b[1;32m   4543\u001b[0m \u001b[0;34m\u001b[0m\u001b[0m\n",
            "\u001b[0;32m/usr/local/lib/python3.7/dist-packages/catboost/core.py\u001b[0m in \u001b[0;36m_fit\u001b[0;34m(self, X, y, cat_features, text_features, embedding_features, pairs, sample_weight, group_id, group_weight, subgroup_id, pairs_weight, baseline, use_best_model, eval_set, verbose, logging_level, plot, column_description, verbose_eval, metric_period, silent, early_stopping_rounds, save_snapshot, snapshot_file, snapshot_interval, init_model)\u001b[0m\n\u001b[1;32m   1921\u001b[0m                 \u001b[0mparams\u001b[0m\u001b[0;34m,\u001b[0m\u001b[0;34m\u001b[0m\u001b[0;34m\u001b[0m\u001b[0m\n\u001b[1;32m   1922\u001b[0m                 \u001b[0mallow_clear_pool\u001b[0m\u001b[0;34m,\u001b[0m\u001b[0;34m\u001b[0m\u001b[0;34m\u001b[0m\u001b[0m\n\u001b[0;32m-> 1923\u001b[0;31m                 \u001b[0mtrain_params\u001b[0m\u001b[0;34m[\u001b[0m\u001b[0;34m\"init_model\"\u001b[0m\u001b[0;34m]\u001b[0m\u001b[0;34m\u001b[0m\u001b[0;34m\u001b[0m\u001b[0m\n\u001b[0m\u001b[1;32m   1924\u001b[0m             )\n\u001b[1;32m   1925\u001b[0m \u001b[0;34m\u001b[0m\u001b[0m\n",
            "\u001b[0;32m/usr/local/lib/python3.7/dist-packages/catboost/core.py\u001b[0m in \u001b[0;36m_train\u001b[0;34m(self, train_pool, test_pool, params, allow_clear_pool, init_model)\u001b[0m\n\u001b[1;32m   1364\u001b[0m \u001b[0;34m\u001b[0m\u001b[0m\n\u001b[1;32m   1365\u001b[0m     \u001b[0;32mdef\u001b[0m \u001b[0m_train\u001b[0m\u001b[0;34m(\u001b[0m\u001b[0mself\u001b[0m\u001b[0;34m,\u001b[0m \u001b[0mtrain_pool\u001b[0m\u001b[0;34m,\u001b[0m \u001b[0mtest_pool\u001b[0m\u001b[0;34m,\u001b[0m \u001b[0mparams\u001b[0m\u001b[0;34m,\u001b[0m \u001b[0mallow_clear_pool\u001b[0m\u001b[0;34m,\u001b[0m \u001b[0minit_model\u001b[0m\u001b[0;34m)\u001b[0m\u001b[0;34m:\u001b[0m\u001b[0;34m\u001b[0m\u001b[0;34m\u001b[0m\u001b[0m\n\u001b[0;32m-> 1366\u001b[0;31m         \u001b[0mself\u001b[0m\u001b[0;34m.\u001b[0m\u001b[0m_object\u001b[0m\u001b[0;34m.\u001b[0m\u001b[0m_train\u001b[0m\u001b[0;34m(\u001b[0m\u001b[0mtrain_pool\u001b[0m\u001b[0;34m,\u001b[0m \u001b[0mtest_pool\u001b[0m\u001b[0;34m,\u001b[0m \u001b[0mparams\u001b[0m\u001b[0;34m,\u001b[0m \u001b[0mallow_clear_pool\u001b[0m\u001b[0;34m,\u001b[0m \u001b[0minit_model\u001b[0m\u001b[0;34m.\u001b[0m\u001b[0m_object\u001b[0m \u001b[0;32mif\u001b[0m \u001b[0minit_model\u001b[0m \u001b[0;32melse\u001b[0m \u001b[0;32mNone\u001b[0m\u001b[0;34m)\u001b[0m\u001b[0;34m\u001b[0m\u001b[0;34m\u001b[0m\u001b[0m\n\u001b[0m\u001b[1;32m   1367\u001b[0m         \u001b[0mself\u001b[0m\u001b[0;34m.\u001b[0m\u001b[0m_set_trained_model_attributes\u001b[0m\u001b[0;34m(\u001b[0m\u001b[0;34m)\u001b[0m\u001b[0;34m\u001b[0m\u001b[0;34m\u001b[0m\u001b[0m\n\u001b[1;32m   1368\u001b[0m \u001b[0;34m\u001b[0m\u001b[0m\n",
            "\u001b[0;32m_catboost.pyx\u001b[0m in \u001b[0;36m_catboost._CatBoost._train\u001b[0;34m()\u001b[0m\n",
            "\u001b[0;32m_catboost.pyx\u001b[0m in \u001b[0;36m_catboost._CatBoost._train\u001b[0;34m()\u001b[0m\n",
            "\u001b[0;31mKeyboardInterrupt\u001b[0m: "
          ]
        }
      ]
    },
    {
      "cell_type": "markdown",
      "metadata": {
        "id": "LmdcEPMq4VX_"
      },
      "source": [
        "# Классификатор (CatBoost)"
      ]
    },
    {
      "cell_type": "code",
      "metadata": {
        "id": "ZkY8TE53Hked"
      },
      "source": [
        "model = cgb.CatBoostClassifier(loss_function='Logloss',\n",
        "                               eval_metric='F1:use_weights=false',\n",
        "                               random_seed=42,\n",
        "                               auto_class_weights='SqrtBalanced',\n",
        "                               iterations = 70,\n",
        "                               logging_level='Verbose')\n",
        "model.fit(train, eval_set=val)"
      ],
      "execution_count": null,
      "outputs": []
    },
    {
      "cell_type": "code",
      "metadata": {
        "id": "YBE7h_a6w7oY"
      },
      "source": [
        "def findBestTresholdForF1(probs, y):\n",
        "  best_f1 = 0\n",
        "  treshold = 0\n",
        "  for prob in set(probs):\n",
        "    preds = (probs > prob).astype(int)\n",
        "    f1 = f1_score(y, preds)\n",
        "    if f1 > best_f1:\n",
        "      best_f1 = f1\n",
        "      treshold = prob\n",
        "  return best_f1, treshold"
      ],
      "execution_count": null,
      "outputs": []
    },
    {
      "cell_type": "code",
      "metadata": {
        "colab": {
          "base_uri": "https://localhost:8080/"
        },
        "id": "4gUx_siYHkee",
        "outputId": "af6bf055-54b9-45fd-c293-7e3f512dec64"
      },
      "source": [
        "probs = model.predict_proba(test)\n",
        "f1, tresh = findBestTresholdForF1(probs[:, 1], test.get_label())\n",
        "preds = (probs[:, 1] > tresh).astype(int)\n",
        "f1"
      ],
      "execution_count": null,
      "outputs": [
        {
          "output_type": "execute_result",
          "data": {
            "text/plain": [
              "0.3784355179704017"
            ]
          },
          "metadata": {
            "tags": []
          },
          "execution_count": 56
        }
      ]
    },
    {
      "cell_type": "code",
      "metadata": {
        "id": "xS2IBTfkPKh5"
      },
      "source": [
        "model.eval_metrics(test, ['PRAUC:use_weights=false', 'F1:use_weights=false', 'AUC:use_weights=false', 'Precision:use_weights=false', 'Recall:use_weights=false'])"
      ],
      "execution_count": null,
      "outputs": []
    },
    {
      "cell_type": "code",
      "metadata": {
        "colab": {
          "base_uri": "https://localhost:8080/"
        },
        "id": "NXWlN2e4tFN_",
        "outputId": "809378a6-7e82-45c4-f980-18f257f957b3"
      },
      "source": [
        "test.get_label().sum()"
      ],
      "execution_count": null,
      "outputs": [
        {
          "output_type": "execute_result",
          "data": {
            "text/plain": [
              "29127"
            ]
          },
          "metadata": {
            "tags": []
          },
          "execution_count": 44
        }
      ]
    },
    {
      "cell_type": "code",
      "metadata": {
        "colab": {
          "base_uri": "https://localhost:8080/"
        },
        "id": "MY8m3-NxrNjE",
        "outputId": "cae8dbbf-3db8-4b88-bc40-d46b3c9bcde5"
      },
      "source": [
        "cgb.utils.get_confusion_matrix(model, test)"
      ],
      "execution_count": null,
      "outputs": [
        {
          "output_type": "execute_result",
          "data": {
            "text/plain": [
              "array([[  147.,   129.],\n",
              "       [  724., 28403.]])"
            ]
          },
          "metadata": {
            "tags": []
          },
          "execution_count": 35
        }
      ]
    },
    {
      "cell_type": "code",
      "metadata": {
        "id": "vhz9Oj7MHkeg"
      },
      "source": [
        "metrics = model.eval_metrics(val, ['AUC', 'Precision', 'BalancedAccuracy'])"
      ],
      "execution_count": null,
      "outputs": []
    },
    {
      "cell_type": "code",
      "metadata": {
        "colab": {
          "base_uri": "https://localhost:8080/"
        },
        "id": "Jwx9SfONHkeg",
        "outputId": "f72a8660-ac9f-45a7-a945-db442f950cba"
      },
      "source": [
        "def predict(model, train, test):\n",
        "  roc_curve_values = get_roc_curve(model, train)\n",
        "  boundary = select_threshold(model, curve=roc_curve_values, FPR=0.9)\n",
        "  print(boundary)\n",
        "  proba = model.predict_proba(test)\n",
        "  predicted = (proba[:, 1] >  boundary).astype(int)\n",
        "  return predicted, proba[:, 1]\n",
        "\n",
        "predicted, proba = predict(model, train, val)"
      ],
      "execution_count": null,
      "outputs": [
        {
          "output_type": "stream",
          "text": [
            "0.048717640047834763\n"
          ],
          "name": "stdout"
        }
      ]
    },
    {
      "cell_type": "code",
      "metadata": {
        "colab": {
          "base_uri": "https://localhost:8080/"
        },
        "id": "sDe9PW1gudRJ",
        "outputId": "dbb12f5d-90cf-4818-ec90-511f0cc69f28"
      },
      "source": [
        "predicted = -1 * predicted + 1\n",
        "actual = -1 * val.get_label() + 1\n",
        "tp = (predicted * actual).sum()\n",
        "print(roc_auc_score(actual, 1 - proba), tp / predicted.sum())\n",
        "print(predicted.sum(), tp.sum())\n",
        "print(actual.sum())"
      ],
      "execution_count": null,
      "outputs": [
        {
          "output_type": "stream",
          "text": [
            "0.9116688423786579 0.7111111111111111\n",
            "45 32\n",
            "353\n"
          ],
          "name": "stdout"
        }
      ]
    },
    {
      "cell_type": "code",
      "metadata": {
        "id": "ViGgFsfzHkeh"
      },
      "source": [
        "plt.figure(figsize = (14,10))\n",
        "plt.plot(np.arange(len(metrics['Precision'])), metrics['Precision'], label = 'Pr')\n",
        "plt.plot(np.arange(len(metrics['AUC'])), metrics['AUC'], label = 'AUC')\n",
        "plt.legend()\n",
        "plt.grid(True)\n",
        "plt.show()"
      ],
      "execution_count": null,
      "outputs": []
    },
    {
      "cell_type": "code",
      "metadata": {
        "id": "p0ybv3a6sM0D"
      },
      "source": [
        "plt.figure(figsize = (14,10))\n",
        "plt.plot(np.arange(len(metrics['Precision'])), metrics['Precision'], label = 'Pr')\n",
        "plt.plot(np.arange(len(metrics['AUC'])), metrics['AUC'], label = 'AUC')\n",
        "plt.legend()\n",
        "plt.grid(True)\n",
        "plt.show()"
      ],
      "execution_count": null,
      "outputs": []
    },
    {
      "cell_type": "code",
      "metadata": {
        "id": "7CPty-Agc94W"
      },
      "source": [
        ""
      ],
      "execution_count": null,
      "outputs": []
    },
    {
      "cell_type": "markdown",
      "metadata": {
        "id": "I4igS6l8dAoQ"
      },
      "source": [
        "# Classifier (Desision tree)"
      ]
    },
    {
      "cell_type": "code",
      "metadata": {
        "id": "YQFu9DybdFim"
      },
      "source": [
        "from sklearn.tree import DecisionTreeClassifier\n",
        "from sklearn.tree import export_text"
      ],
      "execution_count": null,
      "outputs": []
    },
    {
      "cell_type": "code",
      "metadata": {
        "colab": {
          "base_uri": "https://localhost:8080/"
        },
        "id": "iG5Zx-MFebXR",
        "outputId": "a513708f-b783-4f52-d749-6c8b3fcbe7c1"
      },
      "source": [
        "clf = DecisionTreeClassifier(random_state=42, class_weight = 'balanced')\n",
        "clf.fit(X_train, y_train)"
      ],
      "execution_count": null,
      "outputs": [
        {
          "output_type": "execute_result",
          "data": {
            "text/plain": [
              "DecisionTreeClassifier(ccp_alpha=0.0, class_weight='balanced', criterion='gini',\n",
              "                       max_depth=None, max_features=None, max_leaf_nodes=None,\n",
              "                       min_impurity_decrease=0.0, min_impurity_split=None,\n",
              "                       min_samples_leaf=1, min_samples_split=2,\n",
              "                       min_weight_fraction_leaf=0.0, presort='deprecated',\n",
              "                       random_state=42, splitter='best')"
            ]
          },
          "metadata": {
            "tags": []
          },
          "execution_count": 11
        }
      ]
    },
    {
      "cell_type": "code",
      "metadata": {
        "colab": {
          "base_uri": "https://localhost:8080/"
        },
        "id": "ylOTSzTtHye5",
        "outputId": "82bd73c1-3c23-40e6-97b5-036561e5b97b"
      },
      "source": [
        "train_data[train_data.label == 0].shape[0]"
      ],
      "execution_count": null,
      "outputs": [
        {
          "output_type": "execute_result",
          "data": {
            "text/plain": [
              "2349620"
            ]
          },
          "metadata": {
            "tags": []
          },
          "execution_count": 35
        }
      ]
    },
    {
      "cell_type": "code",
      "metadata": {
        "colab": {
          "base_uri": "https://localhost:8080/"
        },
        "id": "0Dz6RTltBILx",
        "outputId": "8c1225ea-34aa-48e3-eabb-cb46f276eec9"
      },
      "source": [
        "probs = clf.predict_proba(X_test)\n",
        "f1, tresh = findBestTresholdForF1(probs[:, 1], y_test)\n",
        "preds = (probs[:, 1] > tresh).astype(int)\n",
        "roc_auc_score(y_test, probs[:, 1])"
      ],
      "execution_count": null,
      "outputs": [
        {
          "output_type": "execute_result",
          "data": {
            "text/plain": [
              "0.6300640495200188"
            ]
          },
          "metadata": {
            "tags": []
          },
          "execution_count": 19
        }
      ]
    },
    {
      "cell_type": "code",
      "metadata": {
        "colab": {
          "base_uri": "https://localhost:8080/"
        },
        "id": "2c79OdZPe_AH",
        "outputId": "3c74238f-d765-40d6-c8f3-a34481e88302"
      },
      "source": [
        "classification_report(y_val, clf.predict(X_val), output_dict=True)['1']['f1-score']"
      ],
      "execution_count": null,
      "outputs": [
        {
          "output_type": "execute_result",
          "data": {
            "text/plain": [
              "0.3677342823250297"
            ]
          },
          "metadata": {
            "tags": []
          },
          "execution_count": 12
        }
      ]
    },
    {
      "cell_type": "code",
      "metadata": {
        "id": "cbVdWHHyfnUE"
      },
      "source": [
        "def score(params):\n",
        "  clf = DecisionTreeClassifier(random_state=42, class_weight = 'balanced')\n",
        "  clf.fit(X_train, y_train)\n",
        "  f1 = classification_report(y_val, clf.predict(X_val), output_dict=True)['1']['f1-score']\n",
        "  return {'loss': -f1, 'status': STATUS_OK}\n",
        "\n",
        "space = {\n",
        "    'max_depth': hp.choice('max_depth', np.arange(3, 16, 1)),\n",
        "    'min_samples_split': hp.choice('min_samples_split', np.arange(2, 5, 1)),\n",
        "    'min_samples_leaf': hp.choice('min_samples_leaf', np.arange(1, 5, 1)),\n",
        "    'max_features': hp.choice('max_features', [1, 2]),\n",
        "    'max_leaf_nodes': hp.choice('max_leaf_nodes', range(5, 64, 5)),\n",
        "    'ccp_alpha': hp.uniform('ccp_alpha', 0, 10)\n",
        "          }\n",
        "\n",
        "def optimize(trials, space):\n",
        "  best = fmin(score, space, algo = tpe.suggest, max_evals = 1000)\n",
        "  return best\n",
        "\n",
        "trials = Trials()\n",
        "best_params = optimize(trials, space)"
      ],
      "execution_count": null,
      "outputs": []
    },
    {
      "cell_type": "code",
      "metadata": {
        "id": "by0NilQOjjTN"
      },
      "source": [
        ""
      ],
      "execution_count": null,
      "outputs": []
    }
  ]
}